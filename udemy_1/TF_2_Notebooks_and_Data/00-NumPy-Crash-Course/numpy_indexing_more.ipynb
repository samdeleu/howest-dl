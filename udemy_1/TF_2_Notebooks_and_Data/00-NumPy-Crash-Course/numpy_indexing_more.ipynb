{
 "cells": [
  {
   "cell_type": "markdown",
   "id": "31ad264b-1588-4b91-bd04-96fa3f6cf26f",
   "metadata": {},
   "source": [
    "# Nog wat numpy indexing"
   ]
  },
  {
   "cell_type": "code",
   "execution_count": 8,
   "id": "55b17f83-69ea-45c2-8de4-8dea50a4b3e4",
   "metadata": {},
   "outputs": [
    {
     "name": "stdout",
     "output_type": "stream",
     "text": [
      "Original Array (shape (4, 6, 3)):\n",
      "[[[ 0  1  2]\n",
      "  [ 3  4  5]\n",
      "  [ 6  7  8]\n",
      "  [ 9 10 11]\n",
      "  [12 13 14]\n",
      "  [15 16 17]]\n",
      "\n",
      " [[18 19 20]\n",
      "  [21 22 23]\n",
      "  [24 25 26]\n",
      "  [27 28 29]\n",
      "  [30 31 32]\n",
      "  [33 34 35]]\n",
      "\n",
      " [[36 37 38]\n",
      "  [39 40 41]\n",
      "  [42 43 44]\n",
      "  [45 46 47]\n",
      "  [48 49 50]\n",
      "  [51 52 53]]\n",
      "\n",
      " [[54 55 56]\n",
      "  [57 58 59]\n",
      "  [60 61 62]\n",
      "  [63 64 65]\n",
      "  [66 67 68]\n",
      "  [69 70 71]]]\n",
      "[[ 0  3  6  9 12 15]\n",
      " [18 21 24 27 30 33]\n",
      " [36 39 42 45 48 51]\n",
      " [54 57 60 63 66 69]]\n",
      "Red Values (flattened):\n",
      " [ 0  3  6  9 12 15 18 21 24 27 30 33 36 39 42 45 48 51 54 57 60 63 66 69]\n"
     ]
    }
   ],
   "source": [
    "import numpy as np\n",
    "\n",
    "# Create a sample NumPy array with shape (4, 6, 3)\n",
    "# For demonstration purposes, let's generate random RGB values\n",
    "# genai_arr = np.random.randint(0, 256, size=(4, 6, 3))  # Random RGB values between 0 and 255\n",
    "genai_arr = np.arange(4*6*3)\n",
    "genai_arr = genai_arr.reshape(4,6,3)\n",
    "# Print the original array\n",
    "print(f\"Original Array (shape {genai_arr.shape}):\\n{genai_arr}\")\n",
    "\n",
    "# Extract the red values (first channel)\n",
    "red_values = genai_arr[:, :, 0]  # Select all rows and columns, and the first channel (R)\n",
    "print(red_values)\n",
    "# Flatten the array to get a list of all R values\n",
    "red_values_flattened = red_values.flatten()\n",
    "\n",
    "# Print the result\n",
    "print(\"Red Values (flattened):\\n\", red_values_flattened)"
   ]
  },
  {
   "cell_type": "code",
   "execution_count": 2,
   "id": "dc00e7ec-ed55-4042-8b38-4d157cdae22a",
   "metadata": {},
   "outputs": [
    {
     "data": {
      "text/plain": [
       "array([[[ 0,  1,  2],\n",
       "        [ 3,  4,  5],\n",
       "        [ 6,  7,  8],\n",
       "        [ 9, 10, 11],\n",
       "        [12, 13, 14],\n",
       "        [15, 16, 17]],\n",
       "\n",
       "       [[18, 19, 20],\n",
       "        [21, 22, 23],\n",
       "        [24, 25, 26],\n",
       "        [27, 28, 29],\n",
       "        [30, 31, 32],\n",
       "        [33, 34, 35]],\n",
       "\n",
       "       [[36, 37, 38],\n",
       "        [39, 40, 41],\n",
       "        [42, 43, 44],\n",
       "        [45, 46, 47],\n",
       "        [48, 49, 50],\n",
       "        [51, 52, 53]],\n",
       "\n",
       "       [[54, 55, 56],\n",
       "        [57, 58, 59],\n",
       "        [60, 61, 62],\n",
       "        [63, 64, 65],\n",
       "        [66, 67, 68],\n",
       "        [69, 70, 71]]])"
      ]
     },
     "execution_count": 2,
     "metadata": {},
     "output_type": "execute_result"
    }
   ],
   "source": [
    "arr_2 = genai_arr.reshape(4,6,3)\n",
    "arr_2"
   ]
  },
  {
   "cell_type": "code",
   "execution_count": 9,
   "id": "49c7e4b7-9477-40e5-afd9-2a2025e80d03",
   "metadata": {},
   "outputs": [
    {
     "name": "stdout",
     "output_type": "stream",
     "text": [
      "Alles 1\n",
      " [[[ 0  1  2]\n",
      "  [ 3  4  5]\n",
      "  [ 6  7  8]\n",
      "  [ 9 10 11]\n",
      "  [12 13 14]\n",
      "  [15 16 17]]\n",
      "\n",
      " [[18 19 20]\n",
      "  [21 22 23]\n",
      "  [24 25 26]\n",
      "  [27 28 29]\n",
      "  [30 31 32]\n",
      "  [33 34 35]]\n",
      "\n",
      " [[36 37 38]\n",
      "  [39 40 41]\n",
      "  [42 43 44]\n",
      "  [45 46 47]\n",
      "  [48 49 50]\n",
      "  [51 52 53]]\n",
      "\n",
      " [[54 55 56]\n",
      "  [57 58 59]\n",
      "  [60 61 62]\n",
      "  [63 64 65]\n",
      "  [66 67 68]\n",
      "  [69 70 71]]]\n",
      "Alles 2\n",
      " [[[ 0  1  2]\n",
      "  [ 3  4  5]\n",
      "  [ 6  7  8]\n",
      "  [ 9 10 11]\n",
      "  [12 13 14]\n",
      "  [15 16 17]]\n",
      "\n",
      " [[18 19 20]\n",
      "  [21 22 23]\n",
      "  [24 25 26]\n",
      "  [27 28 29]\n",
      "  [30 31 32]\n",
      "  [33 34 35]]\n",
      "\n",
      " [[36 37 38]\n",
      "  [39 40 41]\n",
      "  [42 43 44]\n",
      "  [45 46 47]\n",
      "  [48 49 50]\n",
      "  [51 52 53]]\n",
      "\n",
      " [[54 55 56]\n",
      "  [57 58 59]\n",
      "  [60 61 62]\n",
      "  [63 64 65]\n",
      "  [66 67 68]\n",
      "  [69 70 71]]]\n",
      "Alles 3\n",
      " [[[ 0  1  2]\n",
      "  [ 3  4  5]\n",
      "  [ 6  7  8]\n",
      "  [ 9 10 11]\n",
      "  [12 13 14]\n",
      "  [15 16 17]]\n",
      "\n",
      " [[18 19 20]\n",
      "  [21 22 23]\n",
      "  [24 25 26]\n",
      "  [27 28 29]\n",
      "  [30 31 32]\n",
      "  [33 34 35]]\n",
      "\n",
      " [[36 37 38]\n",
      "  [39 40 41]\n",
      "  [42 43 44]\n",
      "  [45 46 47]\n",
      "  [48 49 50]\n",
      "  [51 52 53]]\n",
      "\n",
      " [[54 55 56]\n",
      "  [57 58 59]\n",
      "  [60 61 62]\n",
      "  [63 64 65]\n",
      "  [66 67 68]\n",
      "  [69 70 71]]]\n"
     ]
    }
   ],
   "source": [
    "# Dit geeft hetzelfde resultaat\n",
    "print(f\"Alles 1\\n {arr_2[:,:,:]}\") # selecteer van alle kanalen alles\n",
    "print(f\"Alles 2\\n {arr_2[:,:]}\") # selecteer van alle kanalen alles\n",
    "print(f\"Alles 3\\n {arr_2[:]}\") # selecteer van alle kanalen alles\n"
   ]
  },
  {
   "cell_type": "code",
   "execution_count": 10,
   "id": "8d9c83eb-76e9-4601-a69b-2cd746fa88bd",
   "metadata": {},
   "outputs": [
    {
     "name": "stdout",
     "output_type": "stream",
     "text": [
      "Eerste element 1\n",
      " [[ 0  1  2]\n",
      " [ 3  4  5]\n",
      " [ 6  7  8]\n",
      " [ 9 10 11]\n",
      " [12 13 14]\n",
      " [15 16 17]]\n",
      "Eerste element 2\n",
      " [[ 0  1  2]\n",
      " [ 3  4  5]\n",
      " [ 6  7  8]\n",
      " [ 9 10 11]\n",
      " [12 13 14]\n",
      " [15 16 17]]\n",
      "Eerste element 3\n",
      " [[ 0  1  2]\n",
      " [ 3  4  5]\n",
      " [ 6  7  8]\n",
      " [ 9 10 11]\n",
      " [12 13 14]\n",
      " [15 16 17]]\n",
      "Eerste element 4\n",
      " [[ 0  1  2]\n",
      " [ 3  4  5]\n",
      " [ 6  7  8]\n",
      " [ 9 10 11]\n",
      " [12 13 14]\n",
      " [15 16 17]]\n"
     ]
    }
   ],
   "source": [
    "# Dit geeft ook hetzelfde element\n",
    "print(f\"Eerste element 1\\n {arr_2[0]}\")\n",
    "print(f\"Eerste element 2\\n {arr_2[:,:,:][0]}\") # selecteer van alle kanalen alles\n",
    "print(f\"Eerste element 3\\n {arr_2[:,:][0]}\") # selecteer van alle kanalen alles\n",
    "print(f\"Eerste element 4\\n {arr_2[:][0]}\") # selecteer van alle kanalen alles\n"
   ]
  },
  {
   "cell_type": "code",
   "execution_count": 14,
   "id": "6558f11e-0f88-40cf-ada0-74a5323c233a",
   "metadata": {},
   "outputs": [
    {
     "data": {
      "text/plain": [
       "array([[ 0,  3],\n",
       "       [18, 21],\n",
       "       [36, 39],\n",
       "       [54, 57]])"
      ]
     },
     "execution_count": 14,
     "metadata": {},
     "output_type": "execute_result"
    }
   ],
   "source": [
    "# Alles van het eerste \"kanaal\" alleen de eerste 2 van het tweede kanaal\n",
    "arr_2[:,0:2,0]"
   ]
  },
  {
   "cell_type": "code",
   "execution_count": 15,
   "id": "153d860c-f987-4a33-8206-019669f05759",
   "metadata": {},
   "outputs": [
    {
     "data": {
      "text/plain": [
       "array([0, 3])"
      ]
     },
     "execution_count": 15,
     "metadata": {},
     "output_type": "execute_result"
    }
   ],
   "source": [
    "arr_2[:,0:2,0][0] # Het eerste element hiervan"
   ]
  },
  {
   "cell_type": "code",
   "execution_count": 16,
   "id": "372b0473-7926-4215-917b-b6411014140c",
   "metadata": {},
   "outputs": [
    {
     "data": {
      "text/plain": [
       "array([[[ 0,  1,  2],\n",
       "        [ 3,  4,  5]],\n",
       "\n",
       "       [[18, 19, 20],\n",
       "        [21, 22, 23]],\n",
       "\n",
       "       [[36, 37, 38],\n",
       "        [39, 40, 41]],\n",
       "\n",
       "       [[54, 55, 56],\n",
       "        [57, 58, 59]]])"
      ]
     },
     "execution_count": 16,
     "metadata": {},
     "output_type": "execute_result"
    }
   ],
   "source": [
    "arr_2[:,0:2,:] # alle elementen van de subselectie"
   ]
  },
  {
   "cell_type": "code",
   "execution_count": 21,
   "id": "4e523992-ab82-4a33-95d1-50a3ffee477b",
   "metadata": {},
   "outputs": [
    {
     "data": {
      "text/plain": [
       "array([[[ 1,  2],\n",
       "        [ 4,  5]],\n",
       "\n",
       "       [[19, 20],\n",
       "        [22, 23]],\n",
       "\n",
       "       [[37, 38],\n",
       "        [40, 41]],\n",
       "\n",
       "       [[55, 56],\n",
       "        [58, 59]]])"
      ]
     },
     "execution_count": 21,
     "metadata": {},
     "output_type": "execute_result"
    }
   ],
   "source": [
    "arr_2[:,0:2,1:3] # alleen het tweede en derde element (vanaf 1 to 3 not included)"
   ]
  },
  {
   "cell_type": "code",
   "execution_count": 22,
   "id": "52565dd7-4465-4170-8204-9737370bf5b3",
   "metadata": {},
   "outputs": [
    {
     "data": {
      "text/plain": [
       "array([[[ 1,  2],\n",
       "        [ 4,  5],\n",
       "        [ 7,  8],\n",
       "        [10, 11],\n",
       "        [13, 14],\n",
       "        [16, 17]],\n",
       "\n",
       "       [[19, 20],\n",
       "        [22, 23],\n",
       "        [25, 26],\n",
       "        [28, 29],\n",
       "        [31, 32],\n",
       "        [34, 35]],\n",
       "\n",
       "       [[37, 38],\n",
       "        [40, 41],\n",
       "        [43, 44],\n",
       "        [46, 47],\n",
       "        [49, 50],\n",
       "        [52, 53]],\n",
       "\n",
       "       [[55, 56],\n",
       "        [58, 59],\n",
       "        [61, 62],\n",
       "        [64, 65],\n",
       "        [67, 68],\n",
       "        [70, 71]]])"
      ]
     },
     "execution_count": 22,
     "metadata": {},
     "output_type": "execute_result"
    }
   ],
   "source": [
    "arr_2[:,:,1:3] # alle kanalen dimensie 1 alles dimensie 2 tergi 2de en 3de"
   ]
  },
  {
   "cell_type": "code",
   "execution_count": 23,
   "id": "5b88563a-d7c2-4dcb-b4c3-724c1de50b46",
   "metadata": {},
   "outputs": [
    {
     "data": {
      "text/plain": [
       "array([[ 1,  2],\n",
       "       [ 4,  5],\n",
       "       [ 7,  8],\n",
       "       [10, 11],\n",
       "       [13, 14],\n",
       "       [16, 17]])"
      ]
     },
     "execution_count": 23,
     "metadata": {},
     "output_type": "execute_result"
    }
   ],
   "source": [
    "arr_2[:,:,1:3][0] # alleen het eerste resultaat"
   ]
  },
  {
   "cell_type": "code",
   "execution_count": 24,
   "id": "ae640eb6-764a-4d1b-85e2-5c0243139573",
   "metadata": {},
   "outputs": [
    {
     "data": {
      "text/plain": [
       "array([[ 2,  5,  8, 11, 14, 17],\n",
       "       [20, 23, 26, 29, 32, 35],\n",
       "       [38, 41, 44, 47, 50, 53],\n",
       "       [56, 59, 62, 65, 68, 71]])"
      ]
     },
     "execution_count": 24,
     "metadata": {},
     "output_type": "execute_result"
    }
   ],
   "source": [
    "arr_2[:,:,2] # elke derde element"
   ]
  },
  {
   "cell_type": "code",
   "execution_count": 25,
   "id": "ea001939-0d07-437e-82c4-87e0cafaa2b9",
   "metadata": {},
   "outputs": [
    {
     "data": {
      "text/plain": [
       "array([[[ 2],\n",
       "        [ 5],\n",
       "        [ 8],\n",
       "        [11],\n",
       "        [14],\n",
       "        [17]],\n",
       "\n",
       "       [[20],\n",
       "        [23],\n",
       "        [26],\n",
       "        [29],\n",
       "        [32],\n",
       "        [35]],\n",
       "\n",
       "       [[38],\n",
       "        [41],\n",
       "        [44],\n",
       "        [47],\n",
       "        [50],\n",
       "        [53]],\n",
       "\n",
       "       [[56],\n",
       "        [59],\n",
       "        [62],\n",
       "        [65],\n",
       "        [68],\n",
       "        [71]]])"
      ]
     },
     "execution_count": 25,
     "metadata": {},
     "output_type": "execute_result"
    }
   ],
   "source": [
    "arr_2[:,:,2:3] # elke derde element apart"
   ]
  },
  {
   "cell_type": "code",
   "execution_count": 26,
   "id": "fb9cc33d-897d-4da4-8fa2-2247f21aa5f6",
   "metadata": {},
   "outputs": [
    {
     "data": {
      "text/plain": [
       "array([ 2,  5,  8, 11, 14, 17, 20, 23, 26, 29, 32, 35, 38, 41, 44, 47, 50,\n",
       "       53, 56, 59, 62, 65, 68, 71])"
      ]
     },
     "execution_count": 26,
     "metadata": {},
     "output_type": "execute_result"
    }
   ],
   "source": [
    "arr_2[:,:,2].flatten()"
   ]
  },
  {
   "cell_type": "code",
   "execution_count": 28,
   "id": "7e9edf09-f9a0-43a8-9321-4af178deb030",
   "metadata": {},
   "outputs": [
    {
     "data": {
      "text/plain": [
       "72"
      ]
     },
     "execution_count": 28,
     "metadata": {},
     "output_type": "execute_result"
    }
   ],
   "source": [
    "arr_2.size"
   ]
  },
  {
   "cell_type": "code",
   "execution_count": 29,
   "id": "173c6d28-2d0e-4159-b79b-6ce5c1d8c42b",
   "metadata": {},
   "outputs": [
    {
     "data": {
      "text/plain": [
       "4"
      ]
     },
     "execution_count": 29,
     "metadata": {},
     "output_type": "execute_result"
    }
   ],
   "source": [
    "len(arr_2)"
   ]
  },
  {
   "cell_type": "code",
   "execution_count": null,
   "id": "645e2d72-0897-465b-9117-b3b2ed9ec6ad",
   "metadata": {},
   "outputs": [],
   "source": []
  }
 ],
 "metadata": {
  "kernelspec": {
   "display_name": "Python 3 (ipykernel)",
   "language": "python",
   "name": "python3"
  },
  "language_info": {
   "codemirror_mode": {
    "name": "ipython",
    "version": 3
   },
   "file_extension": ".py",
   "mimetype": "text/x-python",
   "name": "python",
   "nbconvert_exporter": "python",
   "pygments_lexer": "ipython3",
   "version": "3.12.3"
  }
 },
 "nbformat": 4,
 "nbformat_minor": 5
}
