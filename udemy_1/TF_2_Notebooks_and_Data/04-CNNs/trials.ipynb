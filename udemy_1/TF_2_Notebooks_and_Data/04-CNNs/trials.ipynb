{
 "cells": [
  {
   "cell_type": "code",
   "execution_count": 1,
   "id": "9459587d-0c2f-4400-9e10-3becbc00be86",
   "metadata": {},
   "outputs": [],
   "source": [
    "from sklearn.metrics import confusion_matrix\n"
   ]
  },
  {
   "cell_type": "code",
   "execution_count": 2,
   "id": "5e3d7756-3cb8-4cba-9123-af37cf967160",
   "metadata": {},
   "outputs": [
    {
     "data": {
      "text/plain": [
       "array([[2, 1],\n",
       "       [0, 4]])"
      ]
     },
     "execution_count": 2,
     "metadata": {},
     "output_type": "execute_result"
    }
   ],
   "source": [
    "y_true = [1, 1, 0, 0, 0, 1, 1]\n",
    "y_pred = [1, 1, 1, 0, 0, 1, 1]\n",
    "\n",
    "confusion_matrix(y_true, y_pred, labels=[0, 1])\n"
   ]
  },
  {
   "cell_type": "code",
   "execution_count": 3,
   "id": "7dcd1e38-3fd9-4999-ba97-8eb2dc13fa63",
   "metadata": {},
   "outputs": [
    {
     "name": "stdout",
     "output_type": "stream",
     "text": [
      "    p0 p1\n",
      "a0: TN FP\n",
      "a1: FN TP\n"
     ]
    },
    {
     "data": {
      "text/plain": [
       "array([[1, 2],\n",
       "       [3, 4]])"
      ]
     },
     "execution_count": 3,
     "metadata": {},
     "output_type": "execute_result"
    }
   ],
   "source": [
    "y_pred = [0, 1, 1, 1, 1, 1, 1, 0, 0, 0]\n",
    "y_true = [0, 0, 0, 1, 1, 1, 1, 1, 1, 1]\n",
    "\n",
    "print(\"    p0 p1\")\n",
    "print(\"a0: TN FP\")\n",
    "print(\"a1: FN TP\")\n",
    "\n",
    "confusion_matrix(y_true, y_pred, labels=[0, 1])\n"
   ]
  },
  {
   "cell_type": "code",
   "execution_count": null,
   "id": "3c7abc9b-768c-43a2-9fe0-b00afa982ef4",
   "metadata": {},
   "outputs": [],
   "source": []
  }
 ],
 "metadata": {
  "kernelspec": {
   "display_name": "Python 3 (ipykernel)",
   "language": "python",
   "name": "python3"
  },
  "language_info": {
   "codemirror_mode": {
    "name": "ipython",
    "version": 3
   },
   "file_extension": ".py",
   "mimetype": "text/x-python",
   "name": "python",
   "nbconvert_exporter": "python",
   "pygments_lexer": "ipython3",
   "version": "3.12.3"
  }
 },
 "nbformat": 4,
 "nbformat_minor": 5
}
