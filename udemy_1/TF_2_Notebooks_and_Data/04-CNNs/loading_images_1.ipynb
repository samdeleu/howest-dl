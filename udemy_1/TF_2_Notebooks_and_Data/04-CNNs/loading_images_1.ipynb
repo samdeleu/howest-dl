{
 "cells": [
  {
   "cell_type": "markdown",
   "id": "4f640aaa-4139-454d-9563-3fce14af915e",
   "metadata": {},
   "source": [
    "    # Loading Images"
   ]
  },
  {
   "cell_type": "code",
   "execution_count": null,
   "id": "2241656e-1b91-43cd-989d-79fb90ad7dc2",
   "metadata": {},
   "outputs": [],
   "source": [
    "DATA_DIR = Path(\"/home/sam/howest/howest-dl/udemy_1/TF_2_Notebooks_and_Data/04-CNNs/cell_images\")"
   ]
  }
 ],
 "metadata": {
  "kernelspec": {
   "display_name": "Python 3 (ipykernel)",
   "language": "python",
   "name": "python3"
  },
  "language_info": {
   "codemirror_mode": {
    "name": "ipython",
    "version": 3
   },
   "file_extension": ".py",
   "mimetype": "text/x-python",
   "name": "python",
   "nbconvert_exporter": "python",
   "pygments_lexer": "ipython3",
   "version": "3.12.3"
  }
 },
 "nbformat": 4,
 "nbformat_minor": 5
}
