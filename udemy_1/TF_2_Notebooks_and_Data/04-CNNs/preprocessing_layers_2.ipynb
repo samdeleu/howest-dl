{
 "cells": [
  {
   "cell_type": "code",
   "execution_count": 15,
   "id": "bf40cf4a-73e4-43ee-955e-23519bd6e39a",
   "metadata": {},
   "outputs": [],
   "source": [
    "import numpy as np\n",
    "import tensorflow as tf\n",
    "from tensorflow.keras.models import (\n",
    "    Model,\n",
    "    Sequential\n",
    ")\n",
    "from tensorflow.keras.layers import (\n",
    "    Activation,\n",
    "    AveragePooling2D,\n",
    "    BatchNormalization,\n",
    "    Conv2D,\n",
    "    Dense,\n",
    "    Dropout,\n",
    "    Flatten,\n",
    "    Input, \n",
    "    MaxPooling2D,\n",
    "    Rescaling,\n",
    ")\n",
    "import matplotlib.pyplot as plt\n",
    "\n"
   ]
  },
  {
   "cell_type": "code",
   "execution_count": 16,
   "id": "5c1585ef-2830-4c08-9f5f-bc6a3174483c",
   "metadata": {},
   "outputs": [
    {
     "data": {
      "text/plain": [
       "<matplotlib.image.AxesImage at 0x7fd23cfd0920>"
      ]
     },
     "execution_count": 16,
     "metadata": {},
     "output_type": "execute_result"
    },
    {
     "data": {
      "image/png": "[encoded data removed]",
      "text/plain": [
       "<Figure size 640x480 with 1 Axes>"
      ]
     },
     "metadata": {},
     "output_type": "display_data"
    }
   ],
   "source": [
    "# generate dummy data\n",
    "input_dim = (28,28,3)\n",
    "n_sample = 10\n",
    "\n",
    "X = np.random.randint(0,255, (n_sample,)+input_dim)\n",
    "y = np.random.uniform(0,1, (n_sample,))\n",
    "\n",
    "plt.imshow(X[0])"
   ]
  },
  {
   "cell_type": "code",
   "execution_count": 17,
   "id": "94dcfe5f-a497-4a20-8f02-bf3e8a585cc3",
   "metadata": {},
   "outputs": [
    {
     "data": {
      "text/plain": [
       "<KerasTensor shape=(None, 1), dtype=float32, sparse=False, ragged=False, name=keras_tensor_8>"
      ]
     },
     "execution_count": 17,
     "metadata": {},
     "output_type": "execute_result"
    }
   ],
   "source": [
    "# create base model\n",
    "inp = Input(input_dim)\n",
    "x = Conv2D(8, (3,3))(inp)\n",
    "x = Flatten()(x)\n",
    "out = Dense(1)(x)\n",
    "\n",
    "out"
   ]
  },
  {
   "cell_type": "code",
   "execution_count": 18,
   "id": "4cb33647-a6f6-4fc2-93c9-25fac93ce445",
   "metadata": {},
   "outputs": [
    {
     "name": "stdout",
     "output_type": "stream",
     "text": [
      "Epoch 1/3\n",
      "\u001b[1m1/1\u001b[0m \u001b[32m━━━━━━━━━━━━━━━━━━━━\u001b[0m\u001b[37m\u001b[0m \u001b[1m1s\u001b[0m 577ms/step - loss: 0.1416\n",
      "Epoch 2/3\n",
      "\u001b[1m1/1\u001b[0m \u001b[32m━━━━━━━━━━━━━━━━━━━━\u001b[0m\u001b[37m\u001b[0m \u001b[1m0s\u001b[0m 38ms/step - loss: 0.5305\n",
      "Epoch 3/3\n",
      "\u001b[1m1/1\u001b[0m \u001b[32m━━━━━━━━━━━━━━━━━━━━\u001b[0m\u001b[37m\u001b[0m \u001b[1m0s\u001b[0m 33ms/step - loss: 0.0144\n"
     ]
    },
    {
     "data": {
      "text/plain": [
       "<keras.src.callbacks.history.History at 0x7fd2423be870>"
      ]
     },
     "execution_count": 18,
     "metadata": {},
     "output_type": "execute_result"
    }
   ],
   "source": [
    "# fit base model with manual scaling\n",
    "model = Model(inp, out)\n",
    "model.compile('adam', 'mse')\n",
    "model.fit(X/255, y, epochs=3)\n"
   ]
  },
  {
   "cell_type": "code",
   "execution_count": 19,
   "id": "c13a4fa5-b55c-42ca-8a6c-443538d353a9",
   "metadata": {},
   "outputs": [],
   "source": [
    "# create new model with pretrained weight + rescaling at the top\n",
    "inp = Input(input_dim)\n",
    "scaled_input = Rescaling(scale=1.0/255.0, offset=0.0)(inp)\n",
    "out = model(scaled_input)\n",
    "scaled_model = Model(inp, out)\n"
   ]
  },
  {
   "cell_type": "code",
   "execution_count": null,
   "id": "96e2f45f-005c-4332-ad70-48611215f1f3",
   "metadata": {},
   "outputs": [
    {
     "name": "stdout",
     "output_type": "stream",
     "text": [
      "\u001b[1m1/1\u001b[0m \u001b[32m━━━━━━━━━━━━━━━━━━━━\u001b[0m\u001b[37m\u001b[0m \u001b[1m0s\u001b[0m 130ms/step\n"
     ]
    }
   ],
   "source": [
    "# compare prediction with manual scaling vs layer scaling\n",
    "pred = model.predict(X/255)\n",
    "pred_scaled = scaled_model.predict(X)\n",
    "\n",
    "(pred.round(5) == pred_scaled.round(5)).all() # True"
   ]
  },
  {
   "cell_type": "code",
   "execution_count": null,
   "id": "6f683129-cafd-494a-b726-451c8bcfb759",
   "metadata": {},
   "outputs": [],
   "source": []
  }
 ],
 "metadata": {
  "kernelspec": {
   "display_name": "Python 3 (ipykernel)",
   "language": "python",
   "name": "python3"
  },
  "language_info": {
   "codemirror_mode": {
    "name": "ipython",
    "version": 3
   },
   "file_extension": ".py",
   "mimetype": "text/x-python",
   "name": "python",
   "nbconvert_exporter": "python",
   "pygments_lexer": "ipython3",
   "version": "3.12.3"
  }
 },
 "nbformat": 4,
 "nbformat_minor": 5
}
