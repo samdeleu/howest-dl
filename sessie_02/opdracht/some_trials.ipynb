{
 "cells": [
  {
   "cell_type": "code",
   "execution_count": 2,
   "id": "0b04dcea-f27d-4a87-a604-2a4d2539d80d",
   "metadata": {},
   "outputs": [
    {
     "data": {
      "text/plain": [
       "['B', 'C']"
      ]
     },
     "execution_count": 2,
     "metadata": {},
     "output_type": "execute_result"
    }
   ],
   "source": [
    "import random\n",
    "\n",
    "random.sample([\"A\", \"B\", \"C\"], counts=None, k=2)"
   ]
  },
  {
   "cell_type": "code",
   "execution_count": 25,
   "id": "6a29b910-a2c0-464b-a66b-832b4df9efee",
   "metadata": {},
   "outputs": [
    {
     "name": "stdout",
     "output_type": "stream",
     "text": [
      "<class 'list'>\n",
      "13854\n"
     ]
    },
    {
     "ename": "TypeError",
     "evalue": "'<' not supported between instances of 'int' and 'range'",
     "output_type": "error",
     "traceback": [
      "\u001b[0;31m---------------------------------------------------------------------------\u001b[0m",
      "\u001b[0;31mTypeError\u001b[0m                                 Traceback (most recent call last)",
      "Cell \u001b[0;32mIn[25], line 9\u001b[0m\n\u001b[1;32m      6\u001b[0m \u001b[38;5;28mprint\u001b[39m(\u001b[38;5;28mlen\u001b[39m(a))\n\u001b[1;32m      8\u001b[0m i \u001b[38;5;241m=\u001b[39m \u001b[38;5;241m0\u001b[39m\n\u001b[0;32m----> 9\u001b[0m \u001b[38;5;28;01mfor\u001b[39;00m f \u001b[38;5;129;01min\u001b[39;00m a \u001b[38;5;129;01mand\u001b[39;00m \u001b[43mi\u001b[49m\u001b[43m \u001b[49m\u001b[38;5;241;43m<\u001b[39;49m\u001b[43m \u001b[49m\u001b[38;5;28;43mrange\u001b[39;49m\u001b[43m(\u001b[49m\u001b[38;5;241;43m10\u001b[39;49m\u001b[43m)\u001b[49m:\n\u001b[1;32m     10\u001b[0m     \u001b[38;5;28mprint\u001b[39m(f)\n\u001b[1;32m     11\u001b[0m     i \u001b[38;5;241m=\u001b[39m i\u001b[38;5;241m+\u001b[39m\u001b[38;5;241m1\u001b[39m\n",
      "\u001b[0;31mTypeError\u001b[0m: '<' not supported between instances of 'int' and 'range'"
     ]
    }
   ],
   "source": [
    "import os\n",
    "from pathlib import Path\n",
    "\n",
    "a = os.listdir(Path(\"./Malaria/train/infected\"))\n",
    "print(type(a))\n",
    "print(len(a))\n",
    "\n",
    "i = 0\n",
    "for f in a and i < range(10):\n",
    "    print(f)\n",
    "    i = i+1"
   ]
  },
  {
   "cell_type": "code",
   "execution_count": 18,
   "id": "9f514e16-615a-44aa-a468-8d7afb32465d",
   "metadata": {},
   "outputs": [
    {
     "name": "stdout",
     "output_type": "stream",
     "text": [
      "6 [1, 2, 3, 4, 5, 6]\n",
      "[1, 2, 3, 4, 5, 6]\n",
      "[3, 4, 5, 6]\n",
      "[2, 3]\n",
      "7 [2, 3, 4]\n"
     ]
    }
   ],
   "source": [
    "a = [1,2,3,4,5,6]\n",
    "print(len(a), a)\n",
    "print(a[:len(a)])\n",
    "print(a[2:len(a)])\n",
    "print(a[1:-3])\n",
    "\n",
    "a.append(7)\n",
    "print(len(a), a[1:-3])\n"
   ]
  },
  {
   "cell_type": "code",
   "execution_count": 46,
   "id": "22389c5a-4cb2-4992-b468-f8c509da5f56",
   "metadata": {},
   "outputs": [
    {
     "name": "stdout",
     "output_type": "stream",
     "text": [
      "[3, 55, 22, 5, 1, 4, 2, 33, 44, 11]\n",
      "['C', 'e', 'b', 'E', 'A', 'D', 'B', 'c', 'd', 'a']\n",
      "3 C\n",
      "55 e\n",
      "22 b\n",
      "5 E\n",
      "1 A\n",
      "4 D\n",
      "2 B\n",
      "33 c\n",
      "44 d\n",
      "11 a\n"
     ]
    }
   ],
   "source": [
    "from sklearn.utils import shuffle\n",
    "\n",
    "A = [1,2,3,4,5]\n",
    "B = [11,22,33,44,55]\n",
    "C = [\"A\", \"B\", \"C\", \"D\", \"E\"]\n",
    "D = [\"a\", \"b\", \"c\", \"d\", \"e\"]\n",
    "\n",
    "ABr, CDr = shuffle(A+B, C+D, random_state=0)\n",
    "print(ABr)\n",
    "print(CDr)\n",
    "for i,j in zip(ABr, CDr):\n",
    "    print(i, j)"
   ]
  },
  {
   "cell_type": "code",
   "execution_count": 44,
   "id": "dc651373-9ffa-48fd-a3e6-0ffeeb886c5a",
   "metadata": {},
   "outputs": [
    {
     "data": {
      "text/plain": [
       "[1, 2, 3, 4, 5, 11, 22, 33, 44, 55]"
      ]
     },
     "execution_count": 44,
     "metadata": {},
     "output_type": "execute_result"
    }
   ],
   "source": [
    "A+B"
   ]
  },
  {
   "cell_type": "code",
   "execution_count": 47,
   "id": "63afe598-3022-437b-93a3-efb486dae063",
   "metadata": {},
   "outputs": [
    {
     "name": "stdout",
     "output_type": "stream",
     "text": [
      "The maximum value in the array is: 9\n"
     ]
    }
   ],
   "source": [
    "import numpy as np\n",
    "\n",
    "# Create a multidimensional NumPy array\n",
    "array = np.array([[1, 2, 3], [4, 5, 6], [7, 8, 9]])\n",
    "\n",
    "# Find the maximum value in the array\n",
    "max_value = np.amax(array)\n",
    "\n",
    "# Print the maximum value\n",
    "print(\"The maximum value in the array is:\", max_value)"
   ]
  },
  {
   "cell_type": "code",
   "execution_count": 48,
   "id": "ccb8f739-832f-4f64-819f-2e3a14abcaad",
   "metadata": {},
   "outputs": [
    {
     "name": "stderr",
     "output_type": "stream",
     "text": [
      "2025-03-31 23:59:17.594363: I tensorflow/core/util/port.cc:153] oneDNN custom operations are on. You may see slightly different numerical results due to floating-point round-off errors from different computation orders. To turn them off, set the environment variable `TF_ENABLE_ONEDNN_OPTS=0`.\n",
      "2025-03-31 23:59:17.616814: E external/local_xla/xla/stream_executor/cuda/cuda_fft.cc:477] Unable to register cuFFT factory: Attempting to register factory for plugin cuFFT when one has already been registered\n",
      "WARNING: All log messages before absl::InitializeLog() is called are written to STDERR\n",
      "E0000 00:00:1743458357.629821  625518 cuda_dnn.cc:8310] Unable to register cuDNN factory: Attempting to register factory for plugin cuDNN when one has already been registered\n",
      "E0000 00:00:1743458357.634449  625518 cuda_blas.cc:1418] Unable to register cuBLAS factory: Attempting to register factory for plugin cuBLAS when one has already been registered\n",
      "2025-03-31 23:59:17.648292: I tensorflow/core/platform/cpu_feature_guard.cc:210] This TensorFlow binary is optimized to use available CPU instructions in performance-critical operations.\n",
      "To enable the following instructions: AVX2 AVX512F AVX512_VNNI FMA, in other operations, rebuild TensorFlow with the appropriate compiler flags.\n",
      "I0000 00:00:1743458360.290983  625518 gpu_device.cc:2022] Created device /job:localhost/replica:0/task:0/device:GPU:0 with 3574 MB memory:  -> device: 0, name: NVIDIA RTX A3000 Laptop GPU, pci bus id: 0000:01:00.0, compute capability: 8.6\n"
     ]
    },
    {
     "data": {
      "text/html": [
       "<pre style=\"white-space:pre;overflow-x:auto;line-height:normal;font-family:Menlo,'DejaVu Sans Mono',consolas,'Courier New',monospace\"><span style=\"font-weight: bold\">Model: \"functional\"</span>\n",
       "</pre>\n"
      ],
      "text/plain": [
       "\u001b[1mModel: \"functional\"\u001b[0m\n"
      ]
     },
     "metadata": {},
     "output_type": "display_data"
    },
    {
     "data": {
      "text/html": [
       "<pre style=\"white-space:pre;overflow-x:auto;line-height:normal;font-family:Menlo,'DejaVu Sans Mono',consolas,'Courier New',monospace\">┏━━━━━━━━━━━━━━━━━━━━━━━━━━━━━━━━━┳━━━━━━━━━━━━━━━━━━━━━━━━┳━━━━━━━━━━━━━━━┓\n",
       "┃<span style=\"font-weight: bold\"> Layer (type)                    </span>┃<span style=\"font-weight: bold\"> Output Shape           </span>┃<span style=\"font-weight: bold\">       Param # </span>┃\n",
       "┡━━━━━━━━━━━━━━━━━━━━━━━━━━━━━━━━━╇━━━━━━━━━━━━━━━━━━━━━━━━╇━━━━━━━━━━━━━━━┩\n",
       "│ input_layer (<span style=\"color: #0087ff; text-decoration-color: #0087ff\">InputLayer</span>)        │ (<span style=\"color: #00d7ff; text-decoration-color: #00d7ff\">None</span>, <span style=\"color: #00af00; text-decoration-color: #00af00\">64</span>, <span style=\"color: #00af00; text-decoration-color: #00af00\">64</span>, <span style=\"color: #00af00; text-decoration-color: #00af00\">3</span>)      │             <span style=\"color: #00af00; text-decoration-color: #00af00\">0</span> │\n",
       "├─────────────────────────────────┼────────────────────────┼───────────────┤\n",
       "│ conv2d (<span style=\"color: #0087ff; text-decoration-color: #0087ff\">Conv2D</span>)                 │ (<span style=\"color: #00d7ff; text-decoration-color: #00d7ff\">None</span>, <span style=\"color: #00af00; text-decoration-color: #00af00\">62</span>, <span style=\"color: #00af00; text-decoration-color: #00af00\">62</span>, <span style=\"color: #00af00; text-decoration-color: #00af00\">32</span>)     │           <span style=\"color: #00af00; text-decoration-color: #00af00\">896</span> │\n",
       "├─────────────────────────────────┼────────────────────────┼───────────────┤\n",
       "│ flatten (<span style=\"color: #0087ff; text-decoration-color: #0087ff\">Flatten</span>)               │ (<span style=\"color: #00d7ff; text-decoration-color: #00d7ff\">None</span>, <span style=\"color: #00af00; text-decoration-color: #00af00\">123008</span>)         │             <span style=\"color: #00af00; text-decoration-color: #00af00\">0</span> │\n",
       "├─────────────────────────────────┼────────────────────────┼───────────────┤\n",
       "│ dense (<span style=\"color: #0087ff; text-decoration-color: #0087ff\">Dense</span>)                   │ (<span style=\"color: #00d7ff; text-decoration-color: #00d7ff\">None</span>, <span style=\"color: #00af00; text-decoration-color: #00af00\">10</span>)             │     <span style=\"color: #00af00; text-decoration-color: #00af00\">1,230,090</span> │\n",
       "└─────────────────────────────────┴────────────────────────┴───────────────┘\n",
       "</pre>\n"
      ],
      "text/plain": [
       "┏━━━━━━━━━━━━━━━━━━━━━━━━━━━━━━━━━┳━━━━━━━━━━━━━━━━━━━━━━━━┳━━━━━━━━━━━━━━━┓\n",
       "┃\u001b[1m \u001b[0m\u001b[1mLayer (type)                   \u001b[0m\u001b[1m \u001b[0m┃\u001b[1m \u001b[0m\u001b[1mOutput Shape          \u001b[0m\u001b[1m \u001b[0m┃\u001b[1m \u001b[0m\u001b[1m      Param #\u001b[0m\u001b[1m \u001b[0m┃\n",
       "┡━━━━━━━━━━━━━━━━━━━━━━━━━━━━━━━━━╇━━━━━━━━━━━━━━━━━━━━━━━━╇━━━━━━━━━━━━━━━┩\n",
       "│ input_layer (\u001b[38;5;33mInputLayer\u001b[0m)        │ (\u001b[38;5;45mNone\u001b[0m, \u001b[38;5;34m64\u001b[0m, \u001b[38;5;34m64\u001b[0m, \u001b[38;5;34m3\u001b[0m)      │             \u001b[38;5;34m0\u001b[0m │\n",
       "├─────────────────────────────────┼────────────────────────┼───────────────┤\n",
       "│ conv2d (\u001b[38;5;33mConv2D\u001b[0m)                 │ (\u001b[38;5;45mNone\u001b[0m, \u001b[38;5;34m62\u001b[0m, \u001b[38;5;34m62\u001b[0m, \u001b[38;5;34m32\u001b[0m)     │           \u001b[38;5;34m896\u001b[0m │\n",
       "├─────────────────────────────────┼────────────────────────┼───────────────┤\n",
       "│ flatten (\u001b[38;5;33mFlatten\u001b[0m)               │ (\u001b[38;5;45mNone\u001b[0m, \u001b[38;5;34m123008\u001b[0m)         │             \u001b[38;5;34m0\u001b[0m │\n",
       "├─────────────────────────────────┼────────────────────────┼───────────────┤\n",
       "│ dense (\u001b[38;5;33mDense\u001b[0m)                   │ (\u001b[38;5;45mNone\u001b[0m, \u001b[38;5;34m10\u001b[0m)             │     \u001b[38;5;34m1,230,090\u001b[0m │\n",
       "└─────────────────────────────────┴────────────────────────┴───────────────┘\n"
      ]
     },
     "metadata": {},
     "output_type": "display_data"
    },
    {
     "data": {
      "text/html": [
       "<pre style=\"white-space:pre;overflow-x:auto;line-height:normal;font-family:Menlo,'DejaVu Sans Mono',consolas,'Courier New',monospace\"><span style=\"font-weight: bold\"> Total params: </span><span style=\"color: #00af00; text-decoration-color: #00af00\">1,230,986</span> (4.70 MB)\n",
       "</pre>\n"
      ],
      "text/plain": [
       "\u001b[1m Total params: \u001b[0m\u001b[38;5;34m1,230,986\u001b[0m (4.70 MB)\n"
      ]
     },
     "metadata": {},
     "output_type": "display_data"
    },
    {
     "data": {
      "text/html": [
       "<pre style=\"white-space:pre;overflow-x:auto;line-height:normal;font-family:Menlo,'DejaVu Sans Mono',consolas,'Courier New',monospace\"><span style=\"font-weight: bold\"> Trainable params: </span><span style=\"color: #00af00; text-decoration-color: #00af00\">1,230,986</span> (4.70 MB)\n",
       "</pre>\n"
      ],
      "text/plain": [
       "\u001b[1m Trainable params: \u001b[0m\u001b[38;5;34m1,230,986\u001b[0m (4.70 MB)\n"
      ]
     },
     "metadata": {},
     "output_type": "display_data"
    },
    {
     "data": {
      "text/html": [
       "<pre style=\"white-space:pre;overflow-x:auto;line-height:normal;font-family:Menlo,'DejaVu Sans Mono',consolas,'Courier New',monospace\"><span style=\"font-weight: bold\"> Non-trainable params: </span><span style=\"color: #00af00; text-decoration-color: #00af00\">0</span> (0.00 B)\n",
       "</pre>\n"
      ],
      "text/plain": [
       "\u001b[1m Non-trainable params: \u001b[0m\u001b[38;5;34m0\u001b[0m (0.00 B)\n"
      ]
     },
     "metadata": {},
     "output_type": "display_data"
    }
   ],
   "source": [
    "import tensorflow as tf\n",
    "from tensorflow.keras.layers import Input, Conv2D, Flatten, Dense\n",
    "from tensorflow.keras.models import Model\n",
    "\n",
    "# Define the input shape (height, width, channels)\n",
    "input_shape = (64, 64, 3)  # Example: 64x64 RGB images\n",
    "\n",
    "# Define the input layer\n",
    "inputs = Input(shape=input_shape)\n",
    "\n",
    "# Add a convolutional layer\n",
    "x = Conv2D(filters=32, kernel_size=(3, 3), activation='relu')(inputs)\n",
    "\n",
    "# Continue building the model (for example, flattening and adding dense layers)\n",
    "x = Flatten()(x)\n",
    "x = Dense(units=10, activation='softmax')(x)\n",
    "\n",
    "# Create the model\n",
    "model = Model(inputs=inputs, outputs=x)\n",
    "\n",
    "# Summary of the model\n",
    "model.summary()"
   ]
  },
  {
   "cell_type": "code",
   "execution_count": 3,
   "id": "4c130544-b9a9-44a6-b98d-addaf940fea9",
   "metadata": {},
   "outputs": [
    {
     "name": "stdout",
     "output_type": "stream",
     "text": [
      "<class 'numpy.ndarray'> [1 2 3 4 5]\n"
     ]
    }
   ],
   "source": [
    "import numpy as np\n",
    "l = [1,2,3,4,5]\n",
    "a = np.array([1,2,3,4,5])\n",
    "print(type(a), a)"
   ]
  },
  {
   "cell_type": "code",
   "execution_count": 13,
   "id": "1d0e4531-690e-42b8-a45b-3f897a409fcc",
   "metadata": {},
   "outputs": [
    {
     "name": "stdout",
     "output_type": "stream",
     "text": [
      "[1 1 0 0 0]\n"
     ]
    }
   ],
   "source": [
    "b = (a<3).astype(int)\n",
    "print(b)"
   ]
  },
  {
   "cell_type": "code",
   "execution_count": 14,
   "id": "fddf324d-0f13-494d-aba6-0013e048e87a",
   "metadata": {},
   "outputs": [
    {
     "data": {
      "text/plain": [
       "(16,)"
      ]
     },
     "execution_count": 14,
     "metadata": {},
     "output_type": "execute_result"
    }
   ],
   "source": [
    "array = np.array([1, 2, 3, 4, 5, 6, 7, 8, 9, 10, 11, 12, 13, 14, 15, 16])\n",
    "array.shape"
   ]
  },
  {
   "cell_type": "code",
   "execution_count": 15,
   "id": "948bc67f-3b18-492a-b3df-7cdc1473fe27",
   "metadata": {},
   "outputs": [
    {
     "data": {
      "text/plain": [
       "array([ 1,  2,  3,  4,  5,  6,  7,  8,  9, 10, 11, 12, 13, 14, 15, 16])"
      ]
     },
     "execution_count": 15,
     "metadata": {},
     "output_type": "execute_result"
    }
   ],
   "source": [
    "array.reshape((16,1))\n",
    "array"
   ]
  },
  {
   "cell_type": "code",
   "execution_count": 18,
   "id": "a4335c5f-ff76-4360-a6d0-c93a3ac8cdac",
   "metadata": {},
   "outputs": [
    {
     "data": {
      "text/plain": [
       "(6, 1)"
      ]
     },
     "execution_count": 18,
     "metadata": {},
     "output_type": "execute_result"
    }
   ],
   "source": [
    "aa = np.array([[0.1], [0.9], [0.9], [0.17], [0.99], [1.0] ])\n",
    "aa.shape"
   ]
  },
  {
   "cell_type": "code",
   "execution_count": 19,
   "id": "b14952b8-2ef9-487c-80aa-e04a1e6e3bf1",
   "metadata": {},
   "outputs": [
    {
     "data": {
      "text/plain": [
       "array([[0],\n",
       "       [1],\n",
       "       [1],\n",
       "       [0],\n",
       "       [1],\n",
       "       [1]])"
      ]
     },
     "execution_count": 19,
     "metadata": {},
     "output_type": "execute_result"
    }
   ],
   "source": [
    "aa_1 = (aa >=0.9).astype(int)\n",
    "aa_1"
   ]
  },
  {
   "cell_type": "code",
   "execution_count": 25,
   "id": "b0fd8a93-bd27-451f-983e-8751577f049d",
   "metadata": {},
   "outputs": [
    {
     "data": {
      "text/plain": [
       "array([2.27455075e-05, 9.99987721e-01, 9.99975443e-01, 1.76307872e-01,\n",
       "       9.99997854e-01, 1.00000000e+00])"
      ]
     },
     "execution_count": 25,
     "metadata": {},
     "output_type": "execute_result"
    }
   ],
   "source": [
    "aa_1 = aa.reshape(aa.shape[0],)\n",
    "aa_1"
   ]
  },
  {
   "cell_type": "code",
   "execution_count": 21,
   "id": "19cdd72d-778e-4f95-9cf6-ee8e1becbd27",
   "metadata": {},
   "outputs": [
    {
     "data": {
      "text/plain": [
       "array([0, 1, 1, 0, 1, 1])"
      ]
     },
     "execution_count": 21,
     "metadata": {},
     "output_type": "execute_result"
    }
   ],
   "source": [
    "aa_2 = (aa_1 >=0.9).astype(int)\n",
    "aa_2"
   ]
  },
  {
   "cell_type": "code",
   "execution_count": 27,
   "id": "dca04e98-6adc-42c3-b86e-f3ed39694641",
   "metadata": {},
   "outputs": [
    {
     "data": {
      "text/plain": [
       "array([2.27455075e-05, 9.99987721e-01, 9.99975443e-01, 1.76307872e-01,\n",
       "       9.99997854e-01, 1.00000000e+00])"
      ]
     },
     "execution_count": 27,
     "metadata": {},
     "output_type": "execute_result"
    }
   ],
   "source": [
    "aa_3 = aa.flatten()\n",
    "aa_3"
   ]
  },
  {
   "cell_type": "code",
   "execution_count": 29,
   "id": "baaf65b6-8adf-4b01-a8de-7217872ef65d",
   "metadata": {},
   "outputs": [
    {
     "name": "stdout",
     "output_type": "stream",
     "text": [
      "1\n",
      "2\n",
      "4\n",
      "5\n"
     ]
    }
   ],
   "source": [
    "a = [1,2,None, None, 4,5]\n",
    "for i in a:\n",
    "    if i:\n",
    "        print(i)"
   ]
  },
  {
   "cell_type": "code",
   "execution_count": 6,
   "id": "3385029f-1cb3-45e8-a813-f2d6c4ba13fa",
   "metadata": {},
   "outputs": [
    {
     "name": "stdout",
     "output_type": "stream",
     "text": [
      "0 1 1\n",
      "1 2 0\n",
      " --> 1\n",
      "2 3 3\n",
      "3 4 4\n",
      "4 5 0\n",
      " --> 4\n"
     ]
    }
   ],
   "source": [
    "import numpy as np\n",
    "actual = np.array([1,2,3,4,5])\n",
    "predicted = np.array([1,0,3,4,0])\n",
    "for i, (a,p) in enumerate(zip(actual, predicted)):\n",
    "    print(i, a, p)\n",
    "    if a != p:\n",
    "        print(f\" --> {i}\")"
   ]
  },
  {
   "cell_type": "code",
   "execution_count": 10,
   "id": "32f90140-0ff7-46e3-bfb6-d9d6fd54c754",
   "metadata": {},
   "outputs": [
    {
     "name": "stdout",
     "output_type": "stream",
     "text": [
      "[False False  True False False]\n"
     ]
    }
   ],
   "source": [
    "res = ((actual == 3) & (predicted == 3))\n",
    "print(res)"
   ]
  },
  {
   "cell_type": "code",
   "execution_count": 35,
   "id": "0459603d-1aea-4cf7-8e67-e20086ce77f8",
   "metadata": {},
   "outputs": [
    {
     "name": "stdout",
     "output_type": "stream",
     "text": [
      "0 1 1\n",
      "1 1 0\n",
      " --> 1\n",
      "2 1 0\n",
      " --> 2\n",
      "3 0 0\n",
      "4 0 0\n",
      "5 0 1\n",
      " --> 5\n",
      "FN [False  True  True False False False]\n",
      "FP [False False False False False  True]\n"
     ]
    }
   ],
   "source": [
    "import numpy as np\n",
    "X = np.array([11,12,13,14,15,16])\n",
    "actu = np.array([1,1,1,0,0,0])\n",
    "pred = np.array([1,0,0,0,0,1])\n",
    "for i, (a,p) in enumerate(zip(actu, pred)):\n",
    "    print(i, a, p)\n",
    "    if a != p:\n",
    "        print(f\" --> {i}\")\n",
    "\n",
    "fp = ((actu == 0) & (pred == 1))\n",
    "fn = ((actu == 1) & (pred == 0))\n",
    "print(\"FN\", fn)\n",
    "print(\"FP\", fp)"
   ]
  },
  {
   "cell_type": "code",
   "execution_count": 29,
   "id": "c8cb5ff5-4592-4bbc-bd29-9da4f238f2d8",
   "metadata": {},
   "outputs": [
    {
     "name": "stdout",
     "output_type": "stream",
     "text": [
      "<class 'numpy.ndarray'>\n",
      "[16]\n",
      "<class 'numpy.ndarray'>\n",
      "[12 13]\n"
     ]
    }
   ],
   "source": [
    "fp_X = X[np.where(fp)]\n",
    "print(type(fp_X))\n",
    "print(fp_X)\n",
    "fn_X = X[np.where(fn)]\n",
    "print(type(fn_X))\n",
    "print(fn_X)\n"
   ]
  },
  {
   "cell_type": "code",
   "execution_count": 16,
   "id": "19e1bd0d-491e-4d5b-bb6c-6797a6d61d8e",
   "metadata": {},
   "outputs": [
    {
     "name": "stdout",
     "output_type": "stream",
     "text": [
      "(array([5]),)\n"
     ]
    }
   ],
   "source": [
    "print(fp_X)"
   ]
  },
  {
   "cell_type": "code",
   "execution_count": 33,
   "id": "7ea3ffa1-c13e-4278-9002-c9231145e71e",
   "metadata": {},
   "outputs": [
    {
     "name": "stdout",
     "output_type": "stream",
     "text": [
      "[16]\n",
      "<class 'numpy.ndarray'>\n"
     ]
    }
   ],
   "source": [
    "print(X[(actu == 0) & (pred == 1)])\n",
    "print(type(X[fp]))"
   ]
  },
  {
   "cell_type": "code",
   "execution_count": 37,
   "id": "05985d64-312f-4a80-96d4-89da20879fb7",
   "metadata": {},
   "outputs": [
    {
     "data": {
      "text/plain": [
       "2"
      ]
     },
     "execution_count": 37,
     "metadata": {},
     "output_type": "execute_result"
    }
   ],
   "source": [
    "min([3, 2, 3, 3])\n"
   ]
  },
  {
   "cell_type": "code",
   "execution_count": 74,
   "id": "78df3130-9369-4350-b054-096fa92d3055",
   "metadata": {},
   "outputs": [
    {
     "name": "stdout",
     "output_type": "stream",
     "text": [
      "['1' '2' '2' '4' '5']\n"
     ]
    },
    {
     "ename": "IndexError",
     "evalue": "boolean index did not match indexed array along axis 0; size of axis is 4 but size of corresponding boolean axis is 5",
     "output_type": "error",
     "traceback": [
      "\u001b[0;31m---------------------------------------------------------------------------\u001b[0m",
      "\u001b[0;31mIndexError\u001b[0m                                Traceback (most recent call last)",
      "Cell \u001b[0;32mIn[74], line 11\u001b[0m\n\u001b[1;32m      9\u001b[0m aa_t \u001b[38;5;241m=\u001b[39m aa\u001b[38;5;241m.\u001b[39mtranspose()\n\u001b[1;32m     10\u001b[0m \u001b[38;5;28mprint\u001b[39m(aa_t[\u001b[38;5;241m1\u001b[39m])\n\u001b[0;32m---> 11\u001b[0m bb \u001b[38;5;241m=\u001b[39m \u001b[43maa_t\u001b[49m\u001b[43m[\u001b[49m\u001b[43m(\u001b[49m\u001b[43maa_t\u001b[49m\u001b[43m[\u001b[49m\u001b[38;5;241;43m1\u001b[39;49m\u001b[43m]\u001b[49m\u001b[38;5;241;43m==\u001b[39;49m\u001b[38;5;241;43m0.99\u001b[39;49m\u001b[43m)\u001b[49m\u001b[43m]\u001b[49m\n\u001b[1;32m     12\u001b[0m \u001b[38;5;28mprint\u001b[39m(bb)\n",
      "\u001b[0;31mIndexError\u001b[0m: boolean index did not match indexed array along axis 0; size of axis is 4 but size of corresponding boolean axis is 5"
     ]
    }
   ],
   "source": [
    "col = []\n",
    "col.append((\"A\", 1, 11, 111))\n",
    "col.append((\"B\", 2, 22, 222))\n",
    "col.append((\"C\", 2, 33, 666))\n",
    "col.append((\"D\", 4, 44, 444))\n",
    "col.append((\"E\", 5, 55, 555))\n",
    "\n",
    "aa = np.array(col)\n",
    "aa_t = aa.transpose()\n",
    "print(aa_t[1])\n",
    "bb = aa_t[(aa_t[1]==0.99)]\n",
    "print(bb)"
   ]
  },
  {
   "cell_type": "code",
   "execution_count": 61,
   "id": "e168e431-f2f6-46d1-8922-f41fa2f889c2",
   "metadata": {},
   "outputs": [
    {
     "name": "stdout",
     "output_type": "stream",
     "text": [
      "[['A' 'B' 'C' 'D' 'E']\n",
      " ['1' '2' '3' '4' '5']\n",
      " ['11' '22' '33' '44' '55']\n",
      " ['111' '222' '666' '444' '555']]\n"
     ]
    }
   ],
   "source": [
    "aa_t\n",
    "print(aa_t)"
   ]
  },
  {
   "cell_type": "code",
   "execution_count": 62,
   "id": "848d7a14-f422-40ff-8efe-9bf022cc698b",
   "metadata": {},
   "outputs": [
    {
     "data": {
      "text/plain": [
       "array(['111', '222', '666', '444', '555'], dtype='<U21')"
      ]
     },
     "execution_count": 62,
     "metadata": {},
     "output_type": "execute_result"
    }
   ],
   "source": [
    "aa_t[3]"
   ]
  },
  {
   "cell_type": "code",
   "execution_count": 63,
   "id": "a1937a54-7eed-4415-bb3e-ba7d2a4b5431",
   "metadata": {},
   "outputs": [
    {
     "data": {
      "text/plain": [
       "np.int64(2)"
      ]
     },
     "execution_count": 63,
     "metadata": {},
     "output_type": "execute_result"
    }
   ],
   "source": [
    "np.argmax(aa_t[3])"
   ]
  },
  {
   "cell_type": "code",
   "execution_count": 66,
   "id": "5e1e568c-e05a-4088-b0cb-693a411291d1",
   "metadata": {},
   "outputs": [
    {
     "name": "stdout",
     "output_type": "stream",
     "text": [
      "2\n",
      "('C', 3, 33, 666)\n"
     ]
    }
   ],
   "source": [
    "aaa = np.argmax(np.array(col).transpose()[3])\n",
    "print(aaa)\n",
    "print(col[aaa])"
   ]
  },
  {
   "cell_type": "code",
   "execution_count": 3,
   "id": "e7fe3fb4-db54-4daa-a861-7aa8d8e27524",
   "metadata": {},
   "outputs": [
    {
     "data": {
      "text/plain": [
       "'20250403_181834'"
      ]
     },
     "execution_count": 3,
     "metadata": {},
     "output_type": "execute_result"
    }
   ],
   "source": [
    "from datetime import datetime\n",
    "datetime.now().strftime('%Y%m%d_%H%M%S')"
   ]
  },
  {
   "cell_type": "code",
   "execution_count": null,
   "id": "7b7abfa4-a5f4-4dc1-84ff-13308d180dce",
   "metadata": {},
   "outputs": [],
   "source": []
  }
 ],
 "metadata": {
  "kernelspec": {
   "display_name": "Python 3 (ipykernel)",
   "language": "python",
   "name": "python3"
  },
  "language_info": {
   "codemirror_mode": {
    "name": "ipython",
    "version": 3
   },
   "file_extension": ".py",
   "mimetype": "text/x-python",
   "name": "python",
   "nbconvert_exporter": "python",
   "pygments_lexer": "ipython3",
   "version": "3.12.3"
  }
 },
 "nbformat": 4,
 "nbformat_minor": 5
}
