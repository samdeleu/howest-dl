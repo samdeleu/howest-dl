{
 "cells": [
  {
   "cell_type": "code",
   "execution_count": 12,
   "id": "2c6c03f9-4602-4e95-b54a-09d80ea51d46",
   "metadata": {},
   "outputs": [],
   "source": [
    "import os\n",
    "import re\n",
    "from pathlib import Path\n",
    "import shutil\n",
    "\n",
    "import pandas as pd"
   ]
  },
  {
   "cell_type": "code",
   "execution_count": 13,
   "id": "d4dedeb6-f77e-40c8-a750-de52f530b566",
   "metadata": {},
   "outputs": [],
   "source": [
    "def create_keras_compatible_structure(source_dir, target_dir):\n",
    "    def get_name(filename):\n",
    "        VALID_IMAGE_FILE_EXTENSIONS = [\".jpg\"]\n",
    "        name, ext = os.path.splitext(filename)\n",
    "        if ext not in VALID_IMAGE_FILE_EXTENSIONS:\n",
    "            return None\n",
    "\n",
    "        name.replace(ext, \"\")\n",
    "        name = re.sub(r'[^a-zA-Z\\s]', \"\", name)\n",
    "        name = name.strip()\n",
    "        name = name.replace(\" \", \"_\")\n",
    "        return name\n",
    "\n",
    "    def categorize_files(data_dir):\n",
    "        files = os.listdir(data_dir)\n",
    "        df_files = pd.DataFrame(files, columns=['filename'])\n",
    "        df_files[\"name\"] = df_files[\"filename\"].apply(get_name)\n",
    "        df_files = df_files[df_files[\"name\"].notna()]\n",
    "\n",
    "        return df_files\n",
    "\n",
    "    df_files = categorize_files(source_dir)\n",
    "\n",
    "    for d in df_files[\"name\"].unique():\n",
    "        os.makedirs(os.path.join(target_dir, d), exist_ok=True)\n",
    "\n",
    "    for _, entry in df_files.iterrows():\n",
    "        source_path = os.path.join(source_dir, entry[\"filename\"])\n",
    "        target_path = os.path.join(target_dir, entry[\"name\"], entry[\"filename\"])\n",
    "        shutil.copy2(source_path, target_path)\n"
   ]
  },
  {
   "cell_type": "code",
   "execution_count": 14,
   "id": "c85aa994-56c3-4740-8c25-b6b02bc9414e",
   "metadata": {},
   "outputs": [],
   "source": [
    "DATA_DIR = Path(\"/home/sam/howest/howest-dl/sessie_02/opdracht/Face_Recognition/2_Classes\")\n",
    "WORKING_DATA_DIR = Path(\"/home/sam/howest/howest-dl/sessie_02/opdracht/Face_Recognition/2_Classes_keras\")"
   ]
  },
  {
   "cell_type": "code",
   "execution_count": 15,
   "id": "74725c8e-f88f-4643-9194-b26e62b0ca68",
   "metadata": {},
   "outputs": [],
   "source": [
    "create_keras_compatible_structure(source_dir=DATA_DIR, target_dir=WORKING_DATA_DIR)"
   ]
  },
  {
   "cell_type": "code",
   "execution_count": null,
   "id": "18733641-7761-4a2e-b448-02dd61e23ed8",
   "metadata": {},
   "outputs": [],
   "source": [
    "# reading the data"
   ]
  }
 ],
 "metadata": {
  "kernelspec": {
   "display_name": "Python 3 (ipykernel)",
   "language": "python",
   "name": "python3"
  },
  "language_info": {
   "codemirror_mode": {
    "name": "ipython",
    "version": 3
   },
   "file_extension": ".py",
   "mimetype": "text/x-python",
   "name": "python",
   "nbconvert_exporter": "python",
   "pygments_lexer": "ipython3",
   "version": "3.12.3"
  }
 },
 "nbformat": 4,
 "nbformat_minor": 5
}
