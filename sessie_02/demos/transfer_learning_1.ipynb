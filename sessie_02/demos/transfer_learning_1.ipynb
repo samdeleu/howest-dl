{
 "cells": [
  {
   "cell_type": "code",
   "execution_count": 15,
   "id": "89f7f979-9504-43af-aea8-76596a17d8c2",
   "metadata": {},
   "outputs": [],
   "source": [
    "import numpy as np\n",
    "import tensorflow as tf\n",
    "from tensorflow.keras.models import Sequential\n",
    "from tensorflow.keras.layers import Input, Dense, Dropout, Flatten, BatchNormalization\n",
    "from tensorflow.keras.layers import Conv2D, MaxPooling2D\n",
    "from tensorflow.keras import backend as K\n",
    "from tensorflow.keras.utils import to_categorical, plot_model\n",
    "from tensorflow.keras.preprocessing import image\n",
    "\n",
    "from tensorflow.keras.applications.vgg19 import VGG19\n",
    "from tensorflow.keras.applications.vgg19 import preprocess_input, decode_predictions\n",
    "\n"
   ]
  },
  {
   "cell_type": "code",
   "execution_count": 16,
   "id": "ed48f284-11ad-45f9-a926-51c236447186",
   "metadata": {},
   "outputs": [
    {
     "name": "stdout",
     "output_type": "stream",
     "text": [
      "weights: 2\n",
      "trainable_weights: 2\n",
      "non_trainable_weights: 0\n"
     ]
    }
   ],
   "source": [
    "layer = Dense(3)\n",
    "layer.build((None, 4))  # Create the weights (kernel, bias)\n",
    "\n",
    "print(\"weights:\", len(layer.weights))\n",
    "print(\"trainable_weights:\", len(layer.trainable_weights))\n",
    "print(\"non_trainable_weights:\", len(layer.non_trainable_weights))"
   ]
  },
  {
   "cell_type": "code",
   "execution_count": 17,
   "id": "1e916002-f06d-4828-af0e-e879c978d261",
   "metadata": {},
   "outputs": [
    {
     "name": "stdout",
     "output_type": "stream",
     "text": [
      "weights: 4\n",
      "trainable_weights: 2\n",
      "non_trainable_weights: 2\n"
     ]
    }
   ],
   "source": [
    "layer = BatchNormalization()\n",
    "layer.build((None, 4))  # Create the weights\n",
    "\n",
    "print(\"weights:\", len(layer.weights))\n",
    "print(\"trainable_weights:\", len(layer.trainable_weights))\n",
    "print(\"non_trainable_weights:\", len(layer.non_trainable_weights))"
   ]
  },
  {
   "cell_type": "code",
   "execution_count": 18,
   "id": "3cc85570-2d63-4a5f-9266-3b412c89a7b1",
   "metadata": {},
   "outputs": [
    {
     "name": "stdout",
     "output_type": "stream",
     "text": [
      "weights: 2\n",
      "trainable_weights: 0\n",
      "non_trainable_weights: 2\n"
     ]
    }
   ],
   "source": [
    "# Freeze the layer\n",
    "layer = Dense(3)\n",
    "layer.build((None, 4))  # Create the weights\n",
    "layer.trainable = False  # Freeze the layer\n",
    "\n",
    "print(\"weights:\", len(layer.weights))\n",
    "print(\"trainable_weights:\", len(layer.trainable_weights))\n",
    "print(\"non_trainable_weights:\", len(layer.non_trainable_weights))"
   ]
  },
  {
   "cell_type": "raw",
   "id": "5606950b-ac9a-4b82-ac8f-21494bf61e86",
   "metadata": {},
   "source": []
  },
  {
   "cell_type": "code",
   "execution_count": 20,
   "id": "471f1883-7d14-4c71-a27b-ae2b1da16c8e",
   "metadata": {},
   "outputs": [
    {
     "name": "stdout",
     "output_type": "stream",
     "text": [
      "\u001b[1m1/1\u001b[0m \u001b[32m━━━━━━━━━━━━━━━━━━━━\u001b[0m\u001b[37m\u001b[0m \u001b[1m0s\u001b[0m 401ms/step - loss: 0.0719\n",
      "initial_layer1_weights_values [array([[-0.11466789,  0.6227548 , -0.4594605 ],\n",
      "       [ 0.61718154,  0.28501368,  0.6712136 ],\n",
      "       [ 0.2912345 , -0.00724292,  0.26865125]], dtype=float32), array([0., 0., 0.], dtype=float32)]\n",
      "final_layer1_weights_values [array([[-0.11466789,  0.6227548 , -0.4594605 ],\n",
      "       [ 0.61718154,  0.28501368,  0.6712136 ],\n",
      "       [ 0.2912345 , -0.00724292,  0.26865125]], dtype=float32), array([0., 0., 0.], dtype=float32)]\n",
      "----\n",
      "initial_layer2_weights_values [array([[ 0.09382224, -0.3469472 , -0.09620619],\n",
      "       [-0.37426233,  0.6689279 ,  0.1551714 ],\n",
      "       [ 0.14957356,  0.23978162, -0.31261897]], dtype=float32), array([0., 0., 0.], dtype=float32)]\n",
      "final_layer2_weights_values [array([[ 0.09482133, -0.34794706, -0.09720599],\n",
      "       [-0.37326503,  0.66792804,  0.15417166],\n",
      "       [ 0.15057255,  0.23878178, -0.31361872]], dtype=float32), array([-0.00099937, -0.00099993, -0.00099985], dtype=float32)]\n"
     ]
    }
   ],
   "source": [
    "# Example\n",
    "# Make a model with 2 layers\n",
    "layer1 = Dense(3, activation=\"relu\")\n",
    "layer2 = Dense(3, activation=\"sigmoid\")\n",
    "model = Sequential(\n",
    "    [\n",
    "        Input(shape=(3,)),\n",
    "        layer1,\n",
    "        layer2,\n",
    "    ]\n",
    ")\n",
    "\n",
    "# Freeze the first layer\n",
    "layer1.trainable = False\n",
    "\n",
    "# Keep a copy of the weights of layer1 for later reference\n",
    "initial_layer1_weights_values = layer1.get_weights()\n",
    "initial_layer2_weights_values = layer2.get_weights()\n",
    "\n",
    "# Train the model\n",
    "model.compile(optimizer=\"adam\", loss=\"mse\")\n",
    "model.fit(np.random.random((2, 3)), np.random.random((2, 3)))\n",
    "\n",
    "final_layer1_weights_values = layer1.get_weights()\n",
    "final_layer2_weights_values = layer2.get_weights()\n",
    "\n",
    "print(\"initial_layer1_weights_values\", initial_layer1_weights_values)\n",
    "print(\"final_layer1_weights_values\", final_layer1_weights_values)\n",
    "print(\"----\")\n",
    "print(\"initial_layer2_weights_values\", initial_layer2_weights_values)\n",
    "print(\"final_layer2_weights_values\", final_layer2_weights_values)\n"
   ]
  },
  {
   "cell_type": "code",
   "execution_count": null,
   "id": "14026eb5-43ee-4f5a-b329-3f168660ed87",
   "metadata": {},
   "outputs": [],
   "source": []
  }
 ],
 "metadata": {
  "kernelspec": {
   "display_name": "Python 3 (ipykernel)",
   "language": "python",
   "name": "python3"
  },
  "language_info": {
   "codemirror_mode": {
    "name": "ipython",
    "version": 3
   },
   "file_extension": ".py",
   "mimetype": "text/x-python",
   "name": "python",
   "nbconvert_exporter": "python",
   "pygments_lexer": "ipython3",
   "version": "3.12.3"
  }
 },
 "nbformat": 4,
 "nbformat_minor": 5
}
