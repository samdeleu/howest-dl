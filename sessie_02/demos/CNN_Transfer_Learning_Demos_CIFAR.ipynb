{
 "cells": [
  {
   "cell_type": "code",
   "execution_count": 44,
   "metadata": {},
   "outputs": [],
   "source": [
    "%matplotlib inline\n",
    "import os\n",
    "os.environ[\"KERAS_BACKEND\"] = \"tensorflow\"\n",
    "import numpy as np\n",
    "import pandas as pd\n",
    "import matplotlib.pyplot as plt\n",
    "\n",
    "\n",
    "from sklearn.model_selection import train_test_split\n",
    "from sklearn.metrics import (\n",
    "    classification_report,\n",
    "    confusion_matrix,\n",
    "    accuracy_score,\n",
    ")\n",
    "from sklearn import preprocessing\n",
    "from sklearn.preprocessing import OneHotEncoder\n",
    "\n",
    "import matplotlib.image as mpimg\n",
    "from skimage.io import imread\n",
    "# skimage.io.imshow is deprecated use matplotlib.pyplot.imshow instead\n",
    "from skimage import data, color, io, filters, morphology,transform, exposure, feature, util\n",
    "from scipy import ndimage\n",
    "#import Tensorflow namespaces\n",
    "\n",
    "import tensorflow as tf\n",
    "from tensorflow.keras.models import Sequential\n",
    "from tensorflow.keras.layers import Activation\n",
    "from tensorflow.keras.optimizers import SGD\n",
    "from tensorflow.keras.layers import Dense, Dropout, Flatten, BatchNormalization\n",
    "from tensorflow.keras.layers import Conv2D, MaxPooling2D\n",
    "from tensorflow.keras import backend as K\n",
    "from tensorflow.keras.utils import to_categorical\n",
    "from tensorflow.keras.preprocessing import image\n",
    "\n",
    "from tensorflow.keras.applications.vgg19 import VGG19\n",
    "from tensorflow.keras.applications.vgg19 import preprocess_input, decode_predictions\n",
    "\n",
    "import pickle\n",
    "\n",
    "\n"
   ]
  },
  {
   "cell_type": "code",
   "execution_count": 45,
   "metadata": {},
   "outputs": [],
   "source": [
    "def unpickle(file):\n",
    "    import pickle\n",
    "    with open(file, 'rb') as fo:\n",
    "        dict = pickle.load(fo, encoding='bytes')\n",
    "    return dict"
   ]
  },
  {
   "cell_type": "code",
   "execution_count": 46,
   "metadata": {},
   "outputs": [
    {
     "name": "stdout",
     "output_type": "stream",
     "text": [
      "type(training_data) = <class 'dict'>\n",
      "type(training_data[b'data']) = <class 'numpy.ndarray'>, training_data[b'data'].shape = (10000, 3072), \n",
      " training_data[b'data'][0] = array([ 59,  43,  50, ..., 140,  84,  72], dtype=uint8)\n"
     ]
    }
   ],
   "source": [
    "# Load training set and test set\n",
    "\n",
    "training_data = unpickle('./cifar-10/data_batch_1')\n",
    "test_data = unpickle('./cifar-10/test_batch')\n",
    "print(f\"{type(training_data) = }\")\n",
    "print(f\"{type(training_data[b'data']) = }, {training_data[b'data'].shape = }, \")\n",
    "print(f\" {training_data[b'data'][0] = }\")\n",
    "# print(training_data.keys())\n",
    "# print(type(training_data[b\"data\"]))\n",
    "# print(training_data[b\"data\"].shape)\n",
    "# print(training_data[b\"data\"])\n",
    "# print(\"===================\")\n",
    "# print(training_data[b\"data\"][1])\n",
    "# print(\"===================\")\n",
    "# rs1 = training_data[b\"data\"].reshape(len(X_train),3,32,32)\n",
    "# print(\"+++++++++++++++++++\")\n",
    "# print(rs1[1, 0])\n",
    "# print(\"+++++++++++++++++++\")\n",
    "# print(rs1)"
   ]
  },
  {
   "cell_type": "code",
   "execution_count": 47,
   "metadata": {},
   "outputs": [],
   "source": [
    "#training_data"
   ]
  },
  {
   "cell_type": "code",
   "execution_count": 48,
   "metadata": {},
   "outputs": [
    {
     "name": "stdout",
     "output_type": "stream",
     "text": [
      "(10000, 32, 32, 3)\n",
      "(10000, 32, 32, 3)\n"
     ]
    }
   ],
   "source": [
    "# Create training set and test set\n",
    "\n",
    "X_train = training_data.get(b'data')\n",
    "train_labels = training_data.get(b'labels')\n",
    "\n",
    "X_test = test_data.get(b'data')\n",
    "test_labels = test_data.get(b'labels')\n",
    "\n",
    "# Reshape into Tensorflow format (number of images, width, height, color channels)\n",
    "\n",
    "X_train = X_train.reshape((len(X_train),3,32,32)).transpose(0,2,3,1)\n",
    "X_test  = X_test.reshape((len(X_test),3,32,32)).transpose(0,2,3,1)\n",
    "\n",
    "print(X_train.shape)\n",
    "print(X_test.shape)"
   ]
  },
  {
   "cell_type": "code",
   "execution_count": 56,
   "metadata": {},
   "outputs": [
    {
     "data": {
      "text/plain": [
       "<matplotlib.image.AxesImage at 0x7f08da3fe450>"
      ]
     },
     "execution_count": 56,
     "metadata": {},
     "output_type": "execute_result"
    },
    {
     "data": {
      "image/png": "[encoded data removed]",
      "text/plain": [
       "<Figure size 640x480 with 2 Axes>"
      ]
     },
     "metadata": {},
     "output_type": "display_data"
    }
   ],
   "source": [
    "# Show image\n",
    "\n",
    "fig, axes = plt.subplots(1, 2, sharey=True)\n",
    "axes[0].set_title(\"1\")\n",
    "axes[0].imshow(X_train[1])\n",
    "axes[1].set_title(\"4\")\n",
    "axes[1].imshow(X_train[4])\n",
    "# plt.axis('off')  # Hide axes\n",
    "# plt.show()\n"
   ]
  },
  {
   "cell_type": "code",
   "execution_count": 57,
   "metadata": {},
   "outputs": [],
   "source": [
    "# Image normalization\n",
    "\n",
    "# Normalisatie\n",
    "X_train = X_train.astype('float32')\n",
    "X_test = X_test.astype('float32')\n",
    "X_train /= 255\n",
    "X_test /= 255\n",
    "\n",
    "# one-hot encoding of the labels\n",
    "\n",
    "y_train = to_categorical(train_labels)\n",
    "y_test = test_labels"
   ]
  },
  {
   "cell_type": "code",
   "execution_count": 13,
   "metadata": {},
   "outputs": [
    {
     "name": "stdout",
     "output_type": "stream",
     "text": [
      "Epoch 1/30\n",
      "125/125 [==============================] - 2s 15ms/step - loss: 2.1632 - accuracy: 0.2566 - val_loss: 2.5927 - val_accuracy: 0.1170\n",
      "Epoch 2/30\n",
      "125/125 [==============================] - 2s 14ms/step - loss: 1.7515 - accuracy: 0.3661 - val_loss: 3.2571 - val_accuracy: 0.1295\n",
      "Epoch 3/30\n",
      "125/125 [==============================] - 2s 14ms/step - loss: 1.5824 - accuracy: 0.4245 - val_loss: 3.6168 - val_accuracy: 0.1075\n",
      "Epoch 4/30\n",
      "125/125 [==============================] - 2s 14ms/step - loss: 1.4734 - accuracy: 0.4658 - val_loss: 2.2259 - val_accuracy: 0.2585\n",
      "Epoch 5/30\n",
      "125/125 [==============================] - 2s 14ms/step - loss: 1.4055 - accuracy: 0.4931 - val_loss: 1.6556 - val_accuracy: 0.4060\n",
      "Epoch 6/30\n",
      "125/125 [==============================] - 2s 14ms/step - loss: 1.3492 - accuracy: 0.5221 - val_loss: 1.4352 - val_accuracy: 0.4825\n",
      "Epoch 7/30\n",
      "125/125 [==============================] - 2s 13ms/step - loss: 1.2937 - accuracy: 0.5309 - val_loss: 1.3463 - val_accuracy: 0.5195\n",
      "Epoch 8/30\n",
      "125/125 [==============================] - 2s 13ms/step - loss: 1.2634 - accuracy: 0.5474 - val_loss: 1.3726 - val_accuracy: 0.5350\n",
      "Epoch 9/30\n",
      "125/125 [==============================] - 2s 13ms/step - loss: 1.2067 - accuracy: 0.5634 - val_loss: 1.2640 - val_accuracy: 0.5470\n",
      "Epoch 10/30\n",
      "125/125 [==============================] - 2s 13ms/step - loss: 1.1780 - accuracy: 0.5714 - val_loss: 1.2816 - val_accuracy: 0.5390\n",
      "Epoch 11/30\n",
      "125/125 [==============================] - 2s 13ms/step - loss: 1.1453 - accuracy: 0.5875 - val_loss: 1.2185 - val_accuracy: 0.5605\n",
      "Epoch 12/30\n",
      "125/125 [==============================] - 2s 13ms/step - loss: 1.1198 - accuracy: 0.5943 - val_loss: 1.2044 - val_accuracy: 0.5615\n",
      "Epoch 13/30\n",
      "125/125 [==============================] - 2s 13ms/step - loss: 1.0795 - accuracy: 0.6110 - val_loss: 1.2167 - val_accuracy: 0.5740\n",
      "Epoch 14/30\n",
      "125/125 [==============================] - 2s 13ms/step - loss: 1.0486 - accuracy: 0.6184 - val_loss: 2.0578 - val_accuracy: 0.3950\n",
      "Epoch 15/30\n",
      "125/125 [==============================] - 2s 13ms/step - loss: 1.0424 - accuracy: 0.6215 - val_loss: 1.2040 - val_accuracy: 0.5725\n",
      "Epoch 16/30\n",
      "125/125 [==============================] - 2s 13ms/step - loss: 1.0187 - accuracy: 0.6317 - val_loss: 1.1472 - val_accuracy: 0.5995\n",
      "Epoch 17/30\n",
      "125/125 [==============================] - 2s 13ms/step - loss: 0.9927 - accuracy: 0.6424 - val_loss: 1.1567 - val_accuracy: 0.5965\n",
      "Epoch 18/30\n",
      "125/125 [==============================] - 2s 13ms/step - loss: 0.9834 - accuracy: 0.6405 - val_loss: 1.1500 - val_accuracy: 0.6050\n",
      "Epoch 19/30\n",
      "125/125 [==============================] - 2s 13ms/step - loss: 0.9544 - accuracy: 0.6578 - val_loss: 1.2590 - val_accuracy: 0.5560\n",
      "Epoch 20/30\n",
      "125/125 [==============================] - 2s 13ms/step - loss: 0.9516 - accuracy: 0.6643 - val_loss: 1.1612 - val_accuracy: 0.5795\n",
      "Epoch 21/30\n",
      "125/125 [==============================] - 2s 13ms/step - loss: 0.9268 - accuracy: 0.6578 - val_loss: 1.2630 - val_accuracy: 0.5590\n",
      "Epoch 22/30\n",
      "125/125 [==============================] - 2s 13ms/step - loss: 0.9183 - accuracy: 0.6722 - val_loss: 1.5066 - val_accuracy: 0.5090\n",
      "Epoch 23/30\n",
      "125/125 [==============================] - 2s 14ms/step - loss: 0.8904 - accuracy: 0.6781 - val_loss: 1.2076 - val_accuracy: 0.5865\n",
      "Epoch 24/30\n",
      "125/125 [==============================] - 2s 14ms/step - loss: 0.8865 - accuracy: 0.6777 - val_loss: 1.1394 - val_accuracy: 0.5845\n",
      "Epoch 25/30\n",
      "125/125 [==============================] - 2s 14ms/step - loss: 0.8661 - accuracy: 0.6834 - val_loss: 1.0895 - val_accuracy: 0.5950\n",
      "Epoch 26/30\n",
      "125/125 [==============================] - 2s 14ms/step - loss: 0.8614 - accuracy: 0.6904 - val_loss: 1.2466 - val_accuracy: 0.5795\n",
      "Epoch 27/30\n",
      "125/125 [==============================] - ETA: 0s - loss: 0.8406 - accuracy: 0.69 - 2s 14ms/step - loss: 0.8406 - accuracy: 0.6960 - val_loss: 1.1663 - val_accuracy: 0.6020\n",
      "Epoch 28/30\n",
      "125/125 [==============================] - 2s 14ms/step - loss: 0.8324 - accuracy: 0.6941 - val_loss: 1.3638 - val_accuracy: 0.5450\n",
      "Epoch 29/30\n",
      "125/125 [==============================] - 2s 15ms/step - loss: 0.8085 - accuracy: 0.7105 - val_loss: 1.2128 - val_accuracy: 0.5760\n",
      "Epoch 30/30\n",
      "125/125 [==============================] - 2s 14ms/step - loss: 0.8294 - accuracy: 0.7032 - val_loss: 1.2289 - val_accuracy: 0.5880\n"
     ]
    }
   ],
   "source": [
    "# Neural network parameters\n",
    "#-----------------------------------------------\n",
    "#-----------------------------------------------\n",
    "batch_size = 64 # \n",
    "epochs = 30 # \n",
    "#-----------------------------------------------\n",
    "#-----------------------------------------------\n",
    "num_classes = 10\n",
    "img_rows, img_cols = 32, 32\n",
    "input_shape = (img_rows, img_cols,3)\n",
    "\n",
    "# Model\n",
    "model = Sequential()\n",
    "#-----------------------------------------------\n",
    "#-----------------------------------------------\n",
    "model.add(Conv2D(32, kernel_size=(3, 3), activation='relu',input_shape=input_shape)) \n",
    "#-----------------------------------------------\n",
    "#-----------------------------------------------\n",
    "model.add(MaxPooling2D(pool_size=(2, 2)))\n",
    "#-----------------------------------------------\n",
    "#-----------------------------------------------\n",
    "model.add(Dropout(0.3)) # Value between 0 and 1 \n",
    "#-----------------------------------------------\n",
    "model.add(BatchNormalization())\n",
    "#-----------------------------------------------\n",
    "model.add(Conv2D(32, (3, 3), activation='relu')) \n",
    "#-----------------------------------------------\n",
    "#-----------------------------------------------\n",
    "model.add(MaxPooling2D(pool_size=(2, 2)))\n",
    "#-----------------------------------------------\n",
    "#-----------------------------------------------\n",
    "model.add(Dropout(0.3)) # Value between 0 and 1 \n",
    "#-----------------------------------------------\n",
    "model.add(BatchNormalization())\n",
    "#-----------------------------------------------\n",
    "#-----------------------------------------------\n",
    "model.add(Flatten()) \n",
    "model.add(Dense(50, activation='relu')) \n",
    "#-----------------------------------------------\n",
    "#-----------------------------------------------\n",
    "model.add(Dropout(0.2)) # Value between 0 and 1 \n",
    "#-----------------------------------------------\n",
    "#-----------------------------------------------\n",
    "model.add(Dense(num_classes, activation='softmax'))\n",
    "\n",
    "model.compile(loss='categorical_crossentropy',\n",
    "              optimizer='adam',\n",
    "              metrics=['accuracy'])\n",
    "\n",
    "# Trainen van het CNN\n",
    "history = model.fit(X_train, y_train,batch_size=batch_size, epochs=epochs, validation_split=0.2, verbose=1)"
   ]
  },
  {
   "cell_type": "code",
   "execution_count": 14,
   "metadata": {},
   "outputs": [
    {
     "data": {
      "image/png": "[encoded data removed]",
      "text/plain": [
       "<Figure size 432x288 with 1 Axes>"
      ]
     },
     "metadata": {
      "needs_background": "light"
     },
     "output_type": "display_data"
    },
    {
     "data": {
      "image/png": "[encoded data removed]",
      "text/plain": [
       "<Figure size 432x288 with 1 Axes>"
      ]
     },
     "metadata": {
      "needs_background": "light"
     },
     "output_type": "display_data"
    }
   ],
   "source": [
    "# Plot of the training history\n",
    "\n",
    "# Accuray \n",
    "plt.plot(history.history['accuracy'],'r')\n",
    "plt.plot(history.history['val_accuracy'],'b')\n",
    "plt.title('model accuracy')\n",
    "plt.ylabel('accuracy')\n",
    "plt.xlabel('epoch')\n",
    "plt.legend(['train', 'test'], loc='upper left')\n",
    "plt.show()\n",
    "# Loss \n",
    "plt.plot(history.history['loss'],'r')\n",
    "plt.plot(history.history['val_loss'],'b')\n",
    "\n",
    "plt.title('model loss')\n",
    "plt.ylabel('loss')\n",
    "plt.xlabel('epoch')\n",
    "plt.legend(['train', 'test'], loc='upper left')\n",
    "plt.show()"
   ]
  },
  {
   "cell_type": "code",
   "execution_count": 15,
   "metadata": {},
   "outputs": [
    {
     "name": "stdout",
     "output_type": "stream",
     "text": [
      "WARNING:tensorflow:From <ipython-input-15-1556817395d8>:3: Sequential.predict_classes (from tensorflow.python.keras.engine.sequential) is deprecated and will be removed after 2021-01-01.\n",
      "Instructions for updating:\n",
      "Please use instead:* `np.argmax(model.predict(x), axis=-1)`,   if your model does multi-class classification   (e.g. if it uses a `softmax` last-layer activation).* `(model.predict(x) > 0.5).astype(\"int32\")`,   if your model does binary classification   (e.g. if it uses a `sigmoid` last-layer activation).\n",
      "\n",
      "\n",
      "              precision    recall  f1-score   support\n",
      "\n",
      "           0       0.70      0.49      0.58      1000\n",
      "           1       0.76      0.71      0.73      1000\n",
      "           2       0.53      0.40      0.46      1000\n",
      "           3       0.46      0.36      0.40      1000\n",
      "           4       0.50      0.63      0.56      1000\n",
      "           5       0.57      0.40      0.47      1000\n",
      "           6       0.72      0.69      0.70      1000\n",
      "           7       0.70      0.61      0.65      1000\n",
      "           8       0.51      0.89      0.65      1000\n",
      "           9       0.59      0.76      0.66      1000\n",
      "\n",
      "    accuracy                           0.59     10000\n",
      "   macro avg       0.60      0.59      0.59     10000\n",
      "weighted avg       0.60      0.59      0.59     10000\n",
      "\n",
      "[[489  28  55  18  20   3   6   9 312  60]\n",
      " [ 18 709   8   4   5   1   8   3 111 133]\n",
      " [ 74  15 402  59 170  60  78  35  72  35]\n",
      " [ 13  23  87 360 122 136  71  46  74  68]\n",
      " [ 20   6  58  52 634  25  58  71  56  20]\n",
      " [ 15  14  72 191  99 402  29  72  64  42]\n",
      " [  6  19  38  45 109  13 688   7  34  41]\n",
      " [ 17  10  24  45  93  59  10 610  33  99]\n",
      " [ 24  36   9   4   6   0   3   1 886  31]\n",
      " [ 18  78   5   4   6   4   7  12 105 761]]\n",
      "59.41\n"
     ]
    }
   ],
   "source": [
    "# Testing with the test set\n",
    "\n",
    "y_pred = model.predict_classes(X_test)\n",
    "print('\\n')\n",
    "print(classification_report(y_test, y_pred))\n",
    "\n",
    "cf = confusion_matrix(y_test, y_pred)\n",
    "\n",
    "print(cf)\n",
    "print(accuracy_score(y_test, y_pred) * 100) "
   ]
  },
  {
   "cell_type": "markdown",
   "metadata": {},
   "source": [
    "### Transferlearning via VGG19"
   ]
  },
  {
   "cell_type": "code",
   "execution_count": 16,
   "metadata": {},
   "outputs": [
    {
     "data": {
      "text/plain": [
       "tensorflow.python.keras.engine.training.Model"
      ]
     },
     "execution_count": 16,
     "metadata": {},
     "output_type": "execute_result"
    }
   ],
   "source": [
    "modelVGG19 = tf.keras.applications.vgg19.VGG19(include_top=False, weights='imagenet', input_shape=(32,32,3))\n",
    "type(modelVGG19)"
   ]
  },
  {
   "cell_type": "code",
   "execution_count": 17,
   "metadata": {},
   "outputs": [
    {
     "name": "stdout",
     "output_type": "stream",
     "text": [
      "Model: \"sequential_1\"\n",
      "_________________________________________________________________\n",
      "Layer (type)                 Output Shape              Param #   \n",
      "=================================================================\n",
      "block1_conv1 (Conv2D)        (None, 32, 32, 64)        1792      \n",
      "_________________________________________________________________\n",
      "block1_conv2 (Conv2D)        (None, 32, 32, 64)        36928     \n",
      "_________________________________________________________________\n",
      "block1_pool (MaxPooling2D)   (None, 16, 16, 64)        0         \n",
      "_________________________________________________________________\n",
      "block2_conv1 (Conv2D)        (None, 16, 16, 128)       73856     \n",
      "_________________________________________________________________\n",
      "block2_conv2 (Conv2D)        (None, 16, 16, 128)       147584    \n",
      "_________________________________________________________________\n",
      "block2_pool (MaxPooling2D)   (None, 8, 8, 128)         0         \n",
      "_________________________________________________________________\n",
      "block3_conv1 (Conv2D)        (None, 8, 8, 256)         295168    \n",
      "_________________________________________________________________\n",
      "block3_conv2 (Conv2D)        (None, 8, 8, 256)         590080    \n",
      "_________________________________________________________________\n",
      "block3_conv3 (Conv2D)        (None, 8, 8, 256)         590080    \n",
      "_________________________________________________________________\n",
      "block3_conv4 (Conv2D)        (None, 8, 8, 256)         590080    \n",
      "_________________________________________________________________\n",
      "block3_pool (MaxPooling2D)   (None, 4, 4, 256)         0         \n",
      "_________________________________________________________________\n",
      "block4_conv1 (Conv2D)        (None, 4, 4, 512)         1180160   \n",
      "_________________________________________________________________\n",
      "block4_conv2 (Conv2D)        (None, 4, 4, 512)         2359808   \n",
      "_________________________________________________________________\n",
      "block4_conv3 (Conv2D)        (None, 4, 4, 512)         2359808   \n",
      "_________________________________________________________________\n",
      "block4_conv4 (Conv2D)        (None, 4, 4, 512)         2359808   \n",
      "_________________________________________________________________\n",
      "block4_pool (MaxPooling2D)   (None, 2, 2, 512)         0         \n",
      "_________________________________________________________________\n",
      "block5_conv1 (Conv2D)        (None, 2, 2, 512)         2359808   \n",
      "_________________________________________________________________\n",
      "block5_conv2 (Conv2D)        (None, 2, 2, 512)         2359808   \n",
      "_________________________________________________________________\n",
      "block5_conv3 (Conv2D)        (None, 2, 2, 512)         2359808   \n",
      "_________________________________________________________________\n",
      "block5_conv4 (Conv2D)        (None, 2, 2, 512)         2359808   \n",
      "_________________________________________________________________\n",
      "block5_pool (MaxPooling2D)   (None, 1, 1, 512)         0         \n",
      "=================================================================\n",
      "Total params: 20,024,384\n",
      "Trainable params: 20,024,384\n",
      "Non-trainable params: 0\n",
      "_________________________________________________________________\n"
     ]
    }
   ],
   "source": [
    "# Convert to Keras model\n",
    "\n",
    "model = Sequential()\n",
    "\n",
    "for layer in modelVGG19.layers[:]:\n",
    "    model.add(layer)\n",
    "\n",
    "model.summary()"
   ]
  },
  {
   "cell_type": "code",
   "execution_count": 18,
   "metadata": {},
   "outputs": [],
   "source": [
    "# set coefficients to fixed\n",
    "\n",
    "for layer in model.layers:\n",
    "    layer.trainable = False\n",
    "\n",
    "# Add custom dense layers\n",
    "\n",
    "model.add(Flatten()) \n",
    "model.add(Dense(50,activation='relu'))\n",
    "model.add(Dense(10,activation='softmax'))"
   ]
  },
  {
   "cell_type": "code",
   "execution_count": 19,
   "metadata": {},
   "outputs": [],
   "source": [
    "adam = tf.keras.optimizers.Adam()\n",
    "model.compile(loss='categorical_crossentropy',optimizer =adam,metrics=['accuracy'])\n",
    "#model.summary()"
   ]
  },
  {
   "cell_type": "code",
   "execution_count": 20,
   "metadata": {},
   "outputs": [],
   "source": [
    "X_train = preprocess_input(X_train)"
   ]
  },
  {
   "cell_type": "code",
   "execution_count": 22,
   "metadata": {},
   "outputs": [
    {
     "name": "stdout",
     "output_type": "stream",
     "text": [
      "Epoch 1/50\n",
      "32/32 [==============================] - 8s 247ms/step - loss: 2.2361 - accuracy: 0.1621 - val_loss: 2.2262 - val_accuracy: 0.1885\n",
      "Epoch 2/50\n",
      "32/32 [==============================] - 8s 247ms/step - loss: 2.2231 - accuracy: 0.1720 - val_loss: 2.2128 - val_accuracy: 0.1505\n",
      "Epoch 3/50\n",
      "32/32 [==============================] - 8s 247ms/step - loss: 2.2192 - accuracy: 0.1584 - val_loss: 2.2181 - val_accuracy: 0.2000\n",
      "Epoch 4/50\n",
      "32/32 [==============================] - 8s 258ms/step - loss: 2.2127 - accuracy: 0.1743 - val_loss: 2.2103 - val_accuracy: 0.1655\n",
      "Epoch 5/50\n",
      "32/32 [==============================] - 8s 257ms/step - loss: 2.2114 - accuracy: 0.1650 - val_loss: 2.2015 - val_accuracy: 0.1480\n",
      "Epoch 6/50\n",
      "32/32 [==============================] - 8s 255ms/step - loss: 2.2092 - accuracy: 0.1684 - val_loss: 2.2050 - val_accuracy: 0.1675\n",
      "Epoch 7/50\n",
      "32/32 [==============================] - 8s 260ms/step - loss: 2.2065 - accuracy: 0.1710 - val_loss: 2.2003 - val_accuracy: 0.1545\n",
      "Epoch 8/50\n",
      "32/32 [==============================] - 8s 252ms/step - loss: 2.1961 - accuracy: 0.1680 - val_loss: 2.1919 - val_accuracy: 0.1680\n",
      "Epoch 9/50\n",
      "32/32 [==============================] - 8s 256ms/step - loss: 2.1916 - accuracy: 0.1755 - val_loss: 2.1820 - val_accuracy: 0.1765\n",
      "Epoch 10/50\n",
      "32/32 [==============================] - 8s 249ms/step - loss: 2.1882 - accuracy: 0.1780 - val_loss: 2.1817 - val_accuracy: 0.1735\n",
      "Epoch 11/50\n",
      "32/32 [==============================] - 8s 250ms/step - loss: 2.1852 - accuracy: 0.1860 - val_loss: 2.1889 - val_accuracy: 0.1910\n",
      "Epoch 12/50\n",
      "32/32 [==============================] - 8s 248ms/step - loss: 2.1805 - accuracy: 0.1886 - val_loss: 2.1791 - val_accuracy: 0.1950\n",
      "Epoch 13/50\n",
      "32/32 [==============================] - 8s 253ms/step - loss: 2.1744 - accuracy: 0.1911 - val_loss: 2.1674 - val_accuracy: 0.1765\n",
      "Epoch 14/50\n",
      "32/32 [==============================] - 8s 251ms/step - loss: 2.1799 - accuracy: 0.1791 - val_loss: 2.1663 - val_accuracy: 0.1865\n",
      "Epoch 15/50\n",
      "32/32 [==============================] - 8s 250ms/step - loss: 2.1736 - accuracy: 0.1894 - val_loss: 2.1842 - val_accuracy: 0.1770\n",
      "Epoch 16/50\n",
      "32/32 [==============================] - 8s 251ms/step - loss: 2.1736 - accuracy: 0.1885 - val_loss: 2.1596 - val_accuracy: 0.2045\n",
      "Epoch 17/50\n",
      "32/32 [==============================] - 8s 251ms/step - loss: 2.1599 - accuracy: 0.1957 - val_loss: 2.1616 - val_accuracy: 0.2005\n",
      "Epoch 18/50\n",
      "32/32 [==============================] - 8s 252ms/step - loss: 2.1636 - accuracy: 0.1844 - val_loss: 2.1492 - val_accuracy: 0.1715\n",
      "Epoch 19/50\n",
      "32/32 [==============================] - 8s 251ms/step - loss: 2.1561 - accuracy: 0.1910 - val_loss: 2.1455 - val_accuracy: 0.2255\n",
      "Epoch 20/50\n",
      "32/32 [==============================] - 8s 250ms/step - loss: 2.1520 - accuracy: 0.1947 - val_loss: 2.1522 - val_accuracy: 0.2040\n",
      "Epoch 21/50\n",
      "32/32 [==============================] - 8s 251ms/step - loss: 2.1505 - accuracy: 0.1986 - val_loss: 2.1561 - val_accuracy: 0.1885\n",
      "Epoch 22/50\n",
      "32/32 [==============================] - 8s 251ms/step - loss: 2.1469 - accuracy: 0.2013 - val_loss: 2.1370 - val_accuracy: 0.1985\n",
      "Epoch 23/50\n",
      "32/32 [==============================] - 8s 252ms/step - loss: 2.1430 - accuracy: 0.2065 - val_loss: 2.1392 - val_accuracy: 0.1975\n",
      "Epoch 24/50\n",
      "32/32 [==============================] - 8s 253ms/step - loss: 2.1484 - accuracy: 0.1944 - val_loss: 2.1371 - val_accuracy: 0.1915\n",
      "Epoch 25/50\n",
      "32/32 [==============================] - 8s 253ms/step - loss: 2.1360 - accuracy: 0.2033 - val_loss: 2.1405 - val_accuracy: 0.2110\n",
      "Epoch 26/50\n",
      "32/32 [==============================] - 8s 253ms/step - loss: 2.1350 - accuracy: 0.2009 - val_loss: 2.1293 - val_accuracy: 0.2020\n",
      "Epoch 27/50\n",
      "32/32 [==============================] - 8s 253ms/step - loss: 2.1372 - accuracy: 0.2029 - val_loss: 2.1370 - val_accuracy: 0.2090\n",
      "Epoch 28/50\n",
      "32/32 [==============================] - 8s 253ms/step - loss: 2.1257 - accuracy: 0.2046 - val_loss: 2.1299 - val_accuracy: 0.2140\n",
      "Epoch 29/50\n",
      "32/32 [==============================] - 8s 253ms/step - loss: 2.1295 - accuracy: 0.2083 - val_loss: 2.1193 - val_accuracy: 0.2005\n",
      "Epoch 30/50\n",
      "32/32 [==============================] - 8s 254ms/step - loss: 2.1203 - accuracy: 0.2085 - val_loss: 2.1180 - val_accuracy: 0.2200\n",
      "Epoch 31/50\n",
      "32/32 [==============================] - 8s 253ms/step - loss: 2.1197 - accuracy: 0.2066 - val_loss: 2.1131 - val_accuracy: 0.2455\n",
      "Epoch 32/50\n",
      "32/32 [==============================] - 8s 252ms/step - loss: 2.1159 - accuracy: 0.2142 - val_loss: 2.1104 - val_accuracy: 0.2170\n",
      "Epoch 33/50\n",
      "32/32 [==============================] - 8s 252ms/step - loss: 2.1182 - accuracy: 0.2111 - val_loss: 2.1026 - val_accuracy: 0.2270\n",
      "Epoch 34/50\n",
      "32/32 [==============================] - 8s 252ms/step - loss: 2.1111 - accuracy: 0.2111 - val_loss: 2.1130 - val_accuracy: 0.2185\n",
      "Epoch 35/50\n",
      "32/32 [==============================] - 8s 253ms/step - loss: 2.1136 - accuracy: 0.2071 - val_loss: 2.1192 - val_accuracy: 0.1980\n",
      "Epoch 36/50\n",
      "32/32 [==============================] - 8s 253ms/step - loss: 2.1044 - accuracy: 0.2159 - val_loss: 2.1207 - val_accuracy: 0.1995\n",
      "Epoch 37/50\n",
      "32/32 [==============================] - 8s 254ms/step - loss: 2.1059 - accuracy: 0.2122 - val_loss: 2.0936 - val_accuracy: 0.2230\n",
      "Epoch 38/50\n",
      "32/32 [==============================] - 8s 252ms/step - loss: 2.0988 - accuracy: 0.2192 - val_loss: 2.0990 - val_accuracy: 0.2160\n",
      "Epoch 39/50\n",
      "32/32 [==============================] - 8s 254ms/step - loss: 2.0981 - accuracy: 0.2199 - val_loss: 2.0941 - val_accuracy: 0.2255\n",
      "Epoch 40/50\n",
      "32/32 [==============================] - 8s 255ms/step - loss: 2.0908 - accuracy: 0.2251 - val_loss: 2.0960 - val_accuracy: 0.2425\n",
      "Epoch 41/50\n",
      "32/32 [==============================] - 8s 254ms/step - loss: 2.0920 - accuracy: 0.2211 - val_loss: 2.0865 - val_accuracy: 0.2325\n",
      "Epoch 42/50\n",
      "32/32 [==============================] - 8s 256ms/step - loss: 2.0861 - accuracy: 0.2208 - val_loss: 2.0792 - val_accuracy: 0.2435\n",
      "Epoch 43/50\n",
      "32/32 [==============================] - 8s 255ms/step - loss: 2.0868 - accuracy: 0.2233 - val_loss: 2.0850 - val_accuracy: 0.2315\n",
      "Epoch 44/50\n",
      "32/32 [==============================] - 8s 257ms/step - loss: 2.0930 - accuracy: 0.2296 - val_loss: 2.0872 - val_accuracy: 0.2165\n",
      "Epoch 45/50\n",
      "32/32 [==============================] - 8s 258ms/step - loss: 2.0828 - accuracy: 0.2239 - val_loss: 2.0705 - val_accuracy: 0.2460\n",
      "Epoch 46/50\n",
      "32/32 [==============================] - 8s 251ms/step - loss: 2.0788 - accuracy: 0.2300 - val_loss: 2.0770 - val_accuracy: 0.2405\n",
      "Epoch 47/50\n",
      "32/32 [==============================] - 8s 251ms/step - loss: 2.0785 - accuracy: 0.2288 - val_loss: 2.0937 - val_accuracy: 0.2405\n",
      "Epoch 48/50\n",
      "32/32 [==============================] - 8s 255ms/step - loss: 2.0860 - accuracy: 0.2221 - val_loss: 2.0724 - val_accuracy: 0.2275\n",
      "Epoch 49/50\n",
      "32/32 [==============================] - 8s 260ms/step - loss: 2.0786 - accuracy: 0.2241 - val_loss: 2.0706 - val_accuracy: 0.2405\n",
      "Epoch 50/50\n",
      "32/32 [==============================] - 8s 255ms/step - loss: 2.0722 - accuracy: 0.2299 - val_loss: 2.0645 - val_accuracy: 0.2475\n"
     ]
    }
   ],
   "source": [
    "# Train VGG model\n",
    "batch_size =256\n",
    "epochs = 50\n",
    "history = model.fit(X_train, y_train, batch_size=batch_size,  validation_split =0.2, epochs=epochs, verbose=1)"
   ]
  },
  {
   "cell_type": "code",
   "execution_count": null,
   "metadata": {},
   "outputs": [],
   "source": []
  }
 ],
 "metadata": {
  "kernelspec": {
   "display_name": "Python 3 (ipykernel)",
   "language": "python",
   "name": "python3"
  },
  "language_info": {
   "codemirror_mode": {
    "name": "ipython",
    "version": 3
   },
   "file_extension": ".py",
   "mimetype": "text/x-python",
   "name": "python",
   "nbconvert_exporter": "python",
   "pygments_lexer": "ipython3",
   "version": "3.12.3"
  }
 },
 "nbformat": 4,
 "nbformat_minor": 4
}
