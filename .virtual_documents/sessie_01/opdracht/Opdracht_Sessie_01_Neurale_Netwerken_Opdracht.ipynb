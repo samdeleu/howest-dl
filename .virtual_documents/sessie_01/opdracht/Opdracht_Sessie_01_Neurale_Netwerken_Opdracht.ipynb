


get_ipython().run_line_magic("matplotlib", " inline")
import matplotlib.pyplot as plt
from matplotlib.colors import ListedColormap
import numpy as np
import pandas as pd
import seaborn as sns
from sklearn.model_selection import train_test_split
from sklearn.metrics import classification_report
from sklearn.metrics import confusion_matrix, accuracy_score
from sklearn.preprocessing import StandardScaler
from sklearn.model_selection import GridSearchCV
from sklearn.model_selection import RandomizedSearchCV

import matplotlib.image as mpimg
from skimage.io import imread, imshow

# distributions
from scipy.stats import randint 
from scipy.stats import uniform


# Import Keras libraries
import tensorflow as tf
from tensorflow.keras.models import Sequential
from tensorflow.keras.layers import Activation
from tensorflow.keras.optimizers import SGD
from tensorflow.keras.layers import Dense, Dropout,BatchNormalization
from tensorflow.keras.layers import Conv2D, MaxPooling2D
from tensorflow.keras import backend as K
from tensorflow.keras.utils import to_categorical
from tensorflow.keras.preprocessing import image

###### Voor Tensorflow-GPU ########

#physical_devices = tf.config.experimental.list_physical_devices('GPU')
#tf.config.experimental.set_memory_growth(physical_devices[0], True)





from sklearn.datasets.samples_generator import make_blobs
X, y = make_blobs(n_samples=1000, centers=4, center_box = [-10,10],
                  random_state=0, cluster_std=1)
plt.scatter(X[:, 0], X[:, 1], s=10,c=y);


# splitsen in test set en training set
X_train, X_test, y_train, y_test = train_test_split(X, y, test_size = 0.2, random_state =0)

# ---------------------------------------------------
# normaliseren van de input data

#scaler = StandardScaler()

#scaler.fit(X_train)
#X_train = scaler.transform(X_train)
#X_test = scaler.transform(X_test)

#----------------------------------------------------
# one-hot encoding op output
y_train = to_categorical(y_train)
print(y_train)


# NN parameters

batch_size = 32
epochs = 100
dropoutrate = 0.0
input_dim = X_train.shape[1]
activation_hidden = 'relu' # activatiefunctie van de hidden layer neuronen
activation_output = 'sigmoid'# activatie van de output layer neuronen
initializer = 'RandomUniform' # type van kernel intializer
SGD = tf.keras.optimizers.SGD(lr=0.3)
adam = tf.optimizers.Adam()
model = Sequential()
model.add(Dense(20, input_dim=input_dim, kernel_initializer=initializer,activation=activation_hidden))
model.add(Dropout(dropoutrate))
model.add(Dense(20, input_dim=input_dim, kernel_initializer=initializer,activation=activation_hidden))
model.add(Dropout(dropoutrate))
model.add(Dense(20, kernel_initializer=initializer,activation=activation_hidden))
model.add(Dropout(dropoutrate))
model.add(Dense(20, kernel_initializer=initializer,activation=activation_hidden))
model.add(Dropout(dropoutrate))
model.add(Dense(y_train.shape[1], kernel_initializer=initializer,activation=activation_output))


model.compile(loss='categorical_crossentropy',optimizer=adam,metrics=['accuracy'])

# train the model

history = model.fit(X_train, y_train, epochs=epochs, validation_split = 0.2,verbose=1)


# Plot history

fig = plt.figure(figsize=(16,9))
plt.rcParams['axes.labelsize'] = 15
plt.plot(history.history['loss'],'red',linewidth=3.0)
plt.plot(history.history['val_loss'],'blue',linewidth=3.0)
plt.xlabel('epochs')
plt.ylabel('Training error')
plt.show()
fig = plt.figure(figsize=(16,9))
plt.rcParams['axes.labelsize'] = 15
plt.plot(history.history['accuracy'],'red',linewidth=3.0)
plt.plot(history.history['val_accuracy'],'blue',linewidth=3.0)
plt.xlabel('epochs')
plt.ylabel('Accuracy')
plt.show()


# Plotten van de decision boundary

h = 0.2
x1_min = X[:,0].min()-2
x1_max = X[:,0].max()+2
x2_min = X[:,1].min()-2
x2_max = X[:,1].max()+2
xx, yy = np.meshgrid(np.arange(x1_min, x1_max, h),np.arange(x2_min, x2_max, h))

xy = np.vstack([xx.ravel(), yy.ravel()]).T

xys = xy
#xys = scaler.transform(xy)

Zn = model.predict_classes(xys).reshape(xx.shape)

plt.pcolormesh(xx,yy, Zn,cmap='rainbow')
plt.scatter(X[:, 0], X[:, 1], c=y,edgecolor='k', s=20,cmap='rainbow')
plt.xlim(xx.min(), xx.max())
plt.ylim(yy.min(), yy.max())


# Testen met test set

y_pred = model.predict_classes(X_test)
print('\n')
print(classification_report(y_test, y_pred))

cf = confusion_matrix(y_test, y_pred)

print(cf)
print(accuracy_score(y_test, y_pred) * 100) 





# Uitwerking van de opdrachten








dataset = pd.read_csv('./customersatisfaction.csv')

dataset.head(10)


# Uitwerking opdracht customer satisfaction







df_train = pd.read_csv('./fashion-mnist_train.csv')
df_test = pd.read_csv('./fashion-mnist_test.csv')
df_train.head()


# Uitwerking Zalando oefening


