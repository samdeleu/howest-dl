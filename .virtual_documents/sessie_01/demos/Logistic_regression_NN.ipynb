get_ipython().run_line_magic("matplotlib", " inline")

import os

import numpy as np
import matplotlib.pyplot as plt
import pandas as pd
import seaborn as sns
from sklearn import linear_model, datasets
from sklearn.preprocessing import PolynomialFeatures
from sklearn.preprocessing import StandardScaler

# Import Keras libraries
import tensorflow as tf
from tensorflow.keras.models import Sequential
from tensorflow.keras.layers import Activation
from tensorflow.keras.optimizers import SGD
from tensorflow.keras.layers import Dense
from tensorflow.keras.layers import Conv2D, MaxPooling2D
from tensorflow.keras import backend as K
from tensorflow.keras.utils import to_categorical


dataset = pd.read_csv('employees.csv')
dataset.head()


sns.set(font_scale = 1.5) # font size of the axis labels
colors = ['blue', 'red', 'greyish', 'faded green', 'dusty purple']
g = sns.lmplot(x='job_satisfaction',y='age',data=dataset,fit_reg=False,hue='in_service',palette =sns.xkcd_palette(colors),
           scatter_kws={'s':100}, height=7, aspect=1.5)
g.set(xlim=(0, 10), ylim=(15, 60),xticks=[1, 2,3,4,5,6,7,8,9,10], yticks=[20, 25, 30,35,40,45,50,55,60 ])



y = dataset.in_service.values
X = dataset.drop(['in_service'],axis=1)



logreg = linear_model.LogisticRegression(C=1e5) # C= Inverse of regularization strength;                                                # must be a positive float. Like in support vector machines,
                                                # smaller values specify stronger regularization.
logreg.fit(X, y)

print('coefficiënten: ',logreg.coef_)
print('intercept:',logreg.intercept_)


fig = plt.figure(figsize=(16,9))

X = np.asarray(X)

h = 0.01
job_satisfaction_min = X[:,0].min()-2
job_satisfaction_max = X[:,0].max()+2
age_min = X[:,1].min()-2
age_max = X[:,1].max()+2
xx, yy = np.meshgrid(np.arange(job_satisfaction_min, job_satisfaction_max, h),np.arange(age_min, age_max, h))

xy = np.vstack([xx.ravel(), yy.ravel()]).T
Z = logreg.predict(xy).reshape(xx.shape)

sns.set(font_scale = 1.5)
colors = ['blue', 'red', 'greyish', 'faded green', 'dusty purple']
sns.lmplot(x='job_satisfaction',y='age',data=dataset,fit_reg=False,hue='in_service',palette =sns.xkcd_palette(colors),scatter_kws={'s':100}, height=7, aspect=1.5)
#plt.ylim(0, 11)
plt.xlim(0, 11)
plt.contour(xx, yy, Z, colors='k', levels=[-1, 0, 1], alpha=0.5)






# creation of higher order features
graad = 3

poly = PolynomialFeatures(graad)
Xp = poly.fit_transform(X)

# Train model 

logreg_poly = linear_model.LogisticRegression(C=1)
logreg_poly.fit(Xp, y)


fig = plt.figure(figsize=(16,9))

Xp = np.asarray(X)

h = 0.02
job_satisfaction_min = Xp[:,0].min()-2
job_satisfaction_max = Xp[:,0].max()+2
age_min = Xp[:,1].min()-2
age_max = Xp[:,1].max()+2
xx, yy = np.meshgrid(np.arange(job_satisfaction_min, job_satisfaction_max, h),np.arange(age_min, age_max, h))

xy = np.vstack([xx.ravel(), yy.ravel()]).T

xy_p = poly.fit_transform(xy)


Z = logreg_poly.predict(xy_p).reshape(xx.shape)


sns.set(font_scale = 1.5)
colors = ['blue', 'red', 'greyish', 'faded green', 'dusty purple']
sns.lmplot(x='job_satisfaction',y='age',data=dataset,fit_reg=False,hue='in_service',palette =sns.xkcd_palette(colors),scatter_kws={'s':100}, height=7, aspect=1.5)
plt.xlim(0, 11)
plt.contour(xx, yy, Z, colors='k', levels=[-1, 0, 1], alpha=0.5)



Z = logreg.predict(xy)






# data normalization via standard scaler

scaler = StandardScaler()

scaler.fit(X)
Xs = scaler.transform(X)


# Initialize the neural network

input_dim = Xs.shape[1]

model = Sequential()
model.add(Dense(5, input_dim=input_dim, kernel_initializer='RandomUniform',activation='tanh'))
model.add(Dense(5, kernel_initializer='RandomUniform',activation='tanh'))
model.add(Dense(5, kernel_initializer='RandomUniform',activation='tanh'))
model.add(Dense(1))
model.add(Activation('sigmoid'))

#SGD = keras.optimizers.SGD(lr=1, momentum=0.0, decay=0.0, nesterov=False)
adam = tf.keras.optimizers.Adam(lr=0.05)


model.compile(loss=tf.keras.losses.binary_crossentropy,optimizer=adam,metrics=['accuracy'])

# train the model

history = model.fit(Xs, y, epochs=300, verbose=1,validation_split=0.0)


yp = model.predict_classes(Xs)


fig = plt.figure(figsize=(16,9))

X = np.asarray(X)

h = 0.01
job_satisfaction_min = X[:,0].min()-2
job_satisfaction_max = X[:,0].max()+2
age_min = X[:,1].min()-2
age_max = X[:,1].max()+2
xx, yy = np.meshgrid(np.arange(job_satisfaction_min, job_satisfaction_max, h),np.arange(age_min, age_max, h))

xy = np.vstack([xx.ravel(), yy.ravel()]).T

xys = scaler.transform(xy)

Zn = model.predict_classes(xys).reshape(xx.shape)



sns.set(font_scale = 1.5)
colors = ['blue', 'red', 'greyish', 'faded green', 'dusty purple']
sns.lmplot(x='job_satisfaction',y='age',data=dataset,fit_reg=False,hue='in_service',palette =sns.xkcd_palette(colors),scatter_kws={'s':100}, height=7, aspect=1.5)
plt.xlim(0, 11)
plt.contour(xx, yy, Zn, colors='k', levels=[-1, 0, 1], alpha=0.5)




