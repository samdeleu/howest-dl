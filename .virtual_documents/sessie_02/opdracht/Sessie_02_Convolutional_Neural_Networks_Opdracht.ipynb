


get_ipython().run_line_magic("matplotlib", " inline")

import os

import matplotlib.pyplot as plt
import pandas as pd
import numpy as np

from sklearn.preprocessing import MinMaxScaler
from sklearn.preprocessing import StandardScaler
from sklearn.metrics import confusion_matrix,accuracy_score
from sklearn.model_selection import train_test_split
from sklearn.utils import shuffle
from sklearn.metrics import classification_report
from sklearn.metrics import confusion_matrix, accuracy_score
from sklearn.preprocessing import OneHotEncoder
from sklearn import preprocessing
from sklearn.preprocessing import LabelBinarizer
import matplotlib.image as mpimg
from skimage.io import imread, imsave, imshow
from skimage import data, color, io, filters, morphology,transform, exposure, feature, util
from scipy import ndimage
import sklearn.metrics as metrics
from sklearn.utils import class_weight

import tensorflow as tf
from tensorflow.keras.models import Sequential
from tensorflow.keras.layers import Activation
from tensorflow.keras.optimizers import SGD
from tensorflow.keras.layers import Dense, Dropout, Flatten
from tensorflow.keras.layers import Conv2D, MaxPooling2D
from tensorflow.keras.preprocessing import image
from tensorflow.keras.models import Sequential
from tensorflow.keras.layers import Dense, Dropout, Activation, BatchNormalization
from tensorflow.keras.callbacks import EarlyStopping
from tensorflow.keras.applications.vgg19 import VGG19
from tensorflow.keras.applications.vgg19 import preprocess_input, decode_predictions
from tensorflow.keras.preprocessing.text import Tokenizer
from tensorflow.keras.utils import to_categorical

import re

#K.set_image_dim_ordering('tf')
plt.rcParams['image.cmap'] = 'gray'
pd.set_option('display.max_rows',1000)
pd.set_option('display.max_columns',1000)








# Inlezen van de data

# Lezen en preprocessen 

image_size = 100  # hoogte en breedte van de afbeeldingen na resizing. Pas gerust aan.
nr_train_images = 1000  # Om het aantal afbeelding in de training set te beperken. Verhoog indien jouw systeem het toelaat.
nr_test_images = 1000 # Om het aantal afbeelding in de test set in eerste instantiete beperken. 
infected_train_images = []
infected_test_images = []
uninfected_train_images = []
uninfected_test_images = []
y_infected_train = []
y_uninfected_train = []
y_infected_test = []
y_uninfected_test =[]

# read infected train_images
path = './Malaria/train/infected/'
valid_images = [".jpg",".gif",".png"]

for f in os.listdir(path)[:nr_train_images]:
    ext = os.path.splitext(f)[1]
    if ext.lower() not in valid_images:
        continue
    im = imread(os.path.join(path,f)) 
    im = transform.resize(im,(image_size,image_size),mode='constant',anti_aliasing=True)
    infected_train_images.append(im)
    y_infected_train.append(1)
    
# read infected test_images

path = './Malaria/test/infected/'
valid_images = [".jpg",".gif",".png"]

for f in os.listdir(path)[:nr_test_images]:
    ext = os.path.splitext(f)[1]
    if ext.lower() not in valid_images:
        continue
    im = imread(os.path.join(path,f))
    im = transform.resize(im,(image_size,image_size),mode='constant',anti_aliasing=True)
    infected_test_images.append(im)
    y_infected_test.append(1)
    

# read uninfected train_images
path = './Malaria/train/uninfected/'
valid_images = [".jpg",".gif",".png"]

for f in os.listdir(path)[:nr_train_images]:
    ext = os.path.splitext(f)[1]
    if ext.lower() not in valid_images:
        continue
    im = imread(os.path.join(path,f)) 
    im = transform.resize(im,(image_size,image_size),mode='constant',anti_aliasing=True)
    uninfected_train_images.append(im)
    y_uninfected_train.append(0)


# read uninfected test_images

path = './Malaria/test/uninfected/'
valid_images = [".jpg",".gif",".png"]

for f in os.listdir(path)[:nr_test_images]:
    ext = os.path.splitext(f)[1]
    if ext.lower() not in valid_images:
        continue
    im = imread(os.path.join(path,f)) 
    im = transform.resize(im,(image_size,image_size),mode='constant',anti_aliasing=True)
    uninfected_test_images.append(im)
    y_uninfected_test.append(0)
    



# Toon een afbeelding

plt.imshow(uninfected_train_images[1])


# Creëer te de test set en training set. Zorg ervoor dat ze gerandomiseerd zijn.





# Normalisatie van de data




# CNN




# Testen van het neuraal netwerk op de test set. Kijk naar de accuracy, recall, precision, f1-score en de ROC 




# Optimalisatie van het netwerk




# Visualiseer enkele verkeerd geclassificeerde afbeeldingen van de ene klasse en van de andere klasse. 



# Verminderen van het aantal false negatives tot max 1%.













# transfer learning


#modelVGG19 = tf.keras.applications.vgg19.VGG19()
modelVGG19 = tf.keras.applications.vgg19.VGG19(include_top=False, weights='imagenet', input_shape=(100,100,3))
type(modelVGG19)


# Converteer naar een sequential model.


    
# Zet de gewichten van feature extraction layers vast.


# Voeg dense layers toe.















# Inlezen en preprocessen van de afbeeldingen
# nr_of_images = 5000
image_size = 100


faces = []
labels = []
# read infected train_images
path = './Face_Recognition/15_Classes'
valid_images = [".jpg",".gif",".png"]

for f in os.listdir(path)[:]:
    ext = os.path.splitext(f)[1]
    if ext.lower() not in valid_images:
        continue
    im = imread(os.path.join(path,f)) 
    im = transform.resize(im,(image_size,image_size),mode='constant',anti_aliasing=True)
    faces.append(im)
    #s = re.sub('[0-9]\w+', '', f)
    s = os.path.splitext(f)[0]
    s = ''.join([i for i in s if not i.isdigit()])
    s = s.replace("_", "")
    labels.append(s)


# Creëer een training set en test set. Zorg ervoor dat 30 procent van de afbeeldingen in de test set zitten.




# Convolutional Neural Network




# Testen van het CNN




# Hyperparameter tuning en image augmentation. 












# VGG19












# Herkenning van 100 classes dataset














